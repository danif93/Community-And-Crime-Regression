{
 "cells": [
  {
   "cell_type": "code",
   "execution_count": 1,
   "metadata": {},
   "outputs": [],
   "source": [
    "import numpy as np\n",
    "import pandas as pd\n",
    "\n",
    "# cross validation purposes: create the cartesian product between the chosen values sets\n",
    "from itertools import product \n",
    "\n",
    "import matplotlib.pyplot as plt\n",
    "%matplotlib inline\n",
    "\n",
    "#import os\n",
    "#import seaborn"
   ]
  },
  {
   "cell_type": "markdown",
   "metadata": {},
   "source": [
    "# Read Dataset"
   ]
  },
  {
   "cell_type": "code",
   "execution_count": 2,
   "metadata": {},
   "outputs": [],
   "source": [
    "cmp = pd.read_csv(\"commViolUnnormData.txt\", na_values='?')"
   ]
  },
  {
   "cell_type": "code",
   "execution_count": 3,
   "metadata": {},
   "outputs": [],
   "source": [
    "# drop first non predictive features (communityname, state, countyCode, communityCode, \"fold\")\n",
    "pred_features = cmp[cmp.columns[5:-18]]\n",
    "regr_values = cmp[cmp.columns[-18:]]"
   ]
  },
  {
   "cell_type": "markdown",
   "metadata": {},
   "source": [
    "# Drop features with a lot of missing values"
   ]
  },
  {
   "cell_type": "code",
   "execution_count": 4,
   "metadata": {},
   "outputs": [
    {
     "name": "stdout",
     "output_type": "stream",
     "text": [
      "Before dropping: 124 features\n",
      "After dropping: 102 features\n"
     ]
    }
   ],
   "source": [
    "print(\"Before dropping: {} features\".format(str(pred_features.shape[1])))\n",
    "\n",
    "#drop features that contain at least some threshold (from the total) of NaN values\n",
    "cut_tresh = 0.75\n",
    "to_drop = pred_features.columns[pred_features.count() < pred_features.shape[0]*cut_tresh]\n",
    "\n",
    "pred_features = pred_features.drop(columns=to_drop)\n",
    "\n",
    "print(\"After dropping: {} features\".format(str(pred_features.shape[1])))"
   ]
  },
  {
   "cell_type": "markdown",
   "metadata": {},
   "source": [
    "# Imputing on features matrix"
   ]
  },
  {
   "cell_type": "code",
   "execution_count": 5,
   "metadata": {},
   "outputs": [],
   "source": [
    "from collections import Counter\n",
    "\n",
    "def value_withStrategy(v, strat):\n",
    "    if strat == \"mean\":\n",
    "        return np.mean(v)\n",
    "    if strat == \"median\":\n",
    "        return np.median(v)\n",
    "    if strat == \"most_frequent\":\n",
    "        return Counter(v).most_common(1)[0][0]\n",
    "    print(\"Invalid imputing strategy!\")\n",
    "        \n",
    "def imputing(df, strategy):\n",
    "    # for each column that contain at least 1 NaN value...\n",
    "    for nanCol in np.unique(np.where(pred_features.isna())[1]):\n",
    "        nanRows = np.where(pred_features.iloc[:,nanCol].isna())[0] #find NaN rows for the current column\n",
    "        available = df.iloc[~nanRows, nanCol]\n",
    "        value = value_withStrategy(available, strategy) #compute the filling value\n",
    "        df.iloc[nanRows, nanCol] = value"
   ]
  },
  {
   "cell_type": "code",
   "execution_count": 6,
   "metadata": {},
   "outputs": [],
   "source": [
    "imputing(pred_features, \"mean\");"
   ]
  },
  {
   "cell_type": "markdown",
   "metadata": {},
   "source": [
    "# Outliers Detection"
   ]
  },
  {
   "cell_type": "markdown",
   "metadata": {},
   "source": [
    "-- TBD <br>\n",
    "A thourough study from scratch of outliers detection is needed here, but for now it feels like it exceeds the course final project."
   ]
  },
  {
   "cell_type": "markdown",
   "metadata": {},
   "source": [
    "# Choose the Dependent Variable and drop possible missing values rows on it"
   ]
  },
  {
   "cell_type": "code",
   "execution_count": 12,
   "metadata": {},
   "outputs": [
    {
     "name": "stdout",
     "output_type": "stream",
     "text": [
      "Index(['murders', 'murdPerPop', 'rapes', 'rapesPerPop', 'robberies',\n",
      "       'robbPerPop', 'assaults', 'assaultPerPop', 'burglaries', 'burglPerPop',\n",
      "       'larcenies', 'larcPerPop', 'autoTheft', 'autoTheftPerPop', 'arsons',\n",
      "       'arsonsPerPop', 'ViolentCrimesPerPop', 'nonViolPerPop'],\n",
      "      dtype='object')\n"
     ]
    }
   ],
   "source": [
    "print(regr_values.columns)"
   ]
  },
  {
   "cell_type": "code",
   "execution_count": 8,
   "metadata": {},
   "outputs": [
    {
     "data": {
      "text/html": [
       "<div>\n",
       "<style scoped>\n",
       "    .dataframe tbody tr th:only-of-type {\n",
       "        vertical-align: middle;\n",
       "    }\n",
       "\n",
       "    .dataframe tbody tr th {\n",
       "        vertical-align: top;\n",
       "    }\n",
       "\n",
       "    .dataframe thead th {\n",
       "        text-align: right;\n",
       "    }\n",
       "</style>\n",
       "<table border=\"1\" class=\"dataframe\">\n",
       "  <thead>\n",
       "    <tr style=\"text-align: right;\">\n",
       "      <th></th>\n",
       "      <th>murders</th>\n",
       "      <th>murdPerPop</th>\n",
       "      <th>rapes</th>\n",
       "      <th>rapesPerPop</th>\n",
       "      <th>robberies</th>\n",
       "      <th>robbPerPop</th>\n",
       "      <th>assaults</th>\n",
       "      <th>assaultPerPop</th>\n",
       "      <th>burglaries</th>\n",
       "      <th>burglPerPop</th>\n",
       "      <th>larcenies</th>\n",
       "      <th>larcPerPop</th>\n",
       "      <th>autoTheft</th>\n",
       "      <th>autoTheftPerPop</th>\n",
       "      <th>arsons</th>\n",
       "      <th>arsonsPerPop</th>\n",
       "      <th>ViolentCrimesPerPop</th>\n",
       "      <th>nonViolPerPop</th>\n",
       "    </tr>\n",
       "  </thead>\n",
       "  <tbody>\n",
       "    <tr>\n",
       "      <th>count</th>\n",
       "      <td>2215.000000</td>\n",
       "      <td>2215.000000</td>\n",
       "      <td>2007.000000</td>\n",
       "      <td>2007.00000</td>\n",
       "      <td>2214.000000</td>\n",
       "      <td>2214.000000</td>\n",
       "      <td>2202.000000</td>\n",
       "      <td>2202.000000</td>\n",
       "      <td>2212.000000</td>\n",
       "      <td>2212.000000</td>\n",
       "      <td>2212.000000</td>\n",
       "      <td>2212.000000</td>\n",
       "      <td>2212.000000</td>\n",
       "      <td>2212.000000</td>\n",
       "      <td>2124.000000</td>\n",
       "      <td>2124.000000</td>\n",
       "      <td>1994.000000</td>\n",
       "      <td>2118.000000</td>\n",
       "    </tr>\n",
       "    <tr>\n",
       "      <th>mean</th>\n",
       "      <td>7.764786</td>\n",
       "      <td>5.859296</td>\n",
       "      <td>28.046338</td>\n",
       "      <td>36.25848</td>\n",
       "      <td>237.952123</td>\n",
       "      <td>162.612597</td>\n",
       "      <td>326.528156</td>\n",
       "      <td>378.004605</td>\n",
       "      <td>761.236890</td>\n",
       "      <td>1033.430203</td>\n",
       "      <td>2137.629295</td>\n",
       "      <td>3372.979150</td>\n",
       "      <td>516.692586</td>\n",
       "      <td>473.965628</td>\n",
       "      <td>30.907721</td>\n",
       "      <td>32.153682</td>\n",
       "      <td>589.078922</td>\n",
       "      <td>4908.241804</td>\n",
       "    </tr>\n",
       "    <tr>\n",
       "      <th>std</th>\n",
       "      <td>58.166468</td>\n",
       "      <td>9.156829</td>\n",
       "      <td>105.616135</td>\n",
       "      <td>34.23975</td>\n",
       "      <td>2250.720788</td>\n",
       "      <td>234.486624</td>\n",
       "      <td>1987.947941</td>\n",
       "      <td>438.238599</td>\n",
       "      <td>3111.702756</td>\n",
       "      <td>763.354442</td>\n",
       "      <td>7600.573464</td>\n",
       "      <td>1901.316145</td>\n",
       "      <td>3258.164244</td>\n",
       "      <td>504.666026</td>\n",
       "      <td>180.125248</td>\n",
       "      <td>39.240900</td>\n",
       "      <td>614.784518</td>\n",
       "      <td>2739.708901</td>\n",
       "    </tr>\n",
       "    <tr>\n",
       "      <th>min</th>\n",
       "      <td>0.000000</td>\n",
       "      <td>0.000000</td>\n",
       "      <td>0.000000</td>\n",
       "      <td>0.00000</td>\n",
       "      <td>0.000000</td>\n",
       "      <td>0.000000</td>\n",
       "      <td>0.000000</td>\n",
       "      <td>0.000000</td>\n",
       "      <td>2.000000</td>\n",
       "      <td>16.920000</td>\n",
       "      <td>10.000000</td>\n",
       "      <td>77.860000</td>\n",
       "      <td>1.000000</td>\n",
       "      <td>6.550000</td>\n",
       "      <td>0.000000</td>\n",
       "      <td>0.000000</td>\n",
       "      <td>0.000000</td>\n",
       "      <td>116.790000</td>\n",
       "    </tr>\n",
       "    <tr>\n",
       "      <th>25%</th>\n",
       "      <td>0.000000</td>\n",
       "      <td>0.000000</td>\n",
       "      <td>2.000000</td>\n",
       "      <td>11.53500</td>\n",
       "      <td>5.000000</td>\n",
       "      <td>27.647500</td>\n",
       "      <td>18.000000</td>\n",
       "      <td>94.187500</td>\n",
       "      <td>95.000000</td>\n",
       "      <td>511.690000</td>\n",
       "      <td>392.000000</td>\n",
       "      <td>2040.080000</td>\n",
       "      <td>30.000000</td>\n",
       "      <td>156.952500</td>\n",
       "      <td>1.000000</td>\n",
       "      <td>7.670000</td>\n",
       "      <td>161.700000</td>\n",
       "      <td>2918.070000</td>\n",
       "    </tr>\n",
       "    <tr>\n",
       "      <th>50%</th>\n",
       "      <td>1.000000</td>\n",
       "      <td>2.170000</td>\n",
       "      <td>7.000000</td>\n",
       "      <td>26.92000</td>\n",
       "      <td>19.000000</td>\n",
       "      <td>74.800000</td>\n",
       "      <td>56.000000</td>\n",
       "      <td>226.525000</td>\n",
       "      <td>205.000000</td>\n",
       "      <td>822.715000</td>\n",
       "      <td>747.000000</td>\n",
       "      <td>3079.510000</td>\n",
       "      <td>75.000000</td>\n",
       "      <td>302.355000</td>\n",
       "      <td>5.000000</td>\n",
       "      <td>21.080000</td>\n",
       "      <td>374.060000</td>\n",
       "      <td>4425.450000</td>\n",
       "    </tr>\n",
       "    <tr>\n",
       "      <th>75%</th>\n",
       "      <td>3.000000</td>\n",
       "      <td>8.365000</td>\n",
       "      <td>19.000000</td>\n",
       "      <td>51.47000</td>\n",
       "      <td>70.000000</td>\n",
       "      <td>187.155000</td>\n",
       "      <td>180.000000</td>\n",
       "      <td>504.387500</td>\n",
       "      <td>508.000000</td>\n",
       "      <td>1350.232500</td>\n",
       "      <td>1675.000000</td>\n",
       "      <td>4335.410000</td>\n",
       "      <td>232.500000</td>\n",
       "      <td>589.775000</td>\n",
       "      <td>16.000000</td>\n",
       "      <td>42.852500</td>\n",
       "      <td>794.400000</td>\n",
       "      <td>6229.280000</td>\n",
       "    </tr>\n",
       "    <tr>\n",
       "      <th>max</th>\n",
       "      <td>1946.000000</td>\n",
       "      <td>91.090000</td>\n",
       "      <td>2818.000000</td>\n",
       "      <td>401.35000</td>\n",
       "      <td>86001.000000</td>\n",
       "      <td>2264.130000</td>\n",
       "      <td>62778.000000</td>\n",
       "      <td>4932.500000</td>\n",
       "      <td>99207.000000</td>\n",
       "      <td>11881.020000</td>\n",
       "      <td>235132.000000</td>\n",
       "      <td>25910.550000</td>\n",
       "      <td>112464.000000</td>\n",
       "      <td>4968.590000</td>\n",
       "      <td>5119.000000</td>\n",
       "      <td>436.370000</td>\n",
       "      <td>4877.060000</td>\n",
       "      <td>27119.760000</td>\n",
       "    </tr>\n",
       "  </tbody>\n",
       "</table>\n",
       "</div>"
      ],
      "text/plain": [
       "           murders   murdPerPop        rapes  rapesPerPop     robberies  \\\n",
       "count  2215.000000  2215.000000  2007.000000   2007.00000   2214.000000   \n",
       "mean      7.764786     5.859296    28.046338     36.25848    237.952123   \n",
       "std      58.166468     9.156829   105.616135     34.23975   2250.720788   \n",
       "min       0.000000     0.000000     0.000000      0.00000      0.000000   \n",
       "25%       0.000000     0.000000     2.000000     11.53500      5.000000   \n",
       "50%       1.000000     2.170000     7.000000     26.92000     19.000000   \n",
       "75%       3.000000     8.365000    19.000000     51.47000     70.000000   \n",
       "max    1946.000000    91.090000  2818.000000    401.35000  86001.000000   \n",
       "\n",
       "        robbPerPop      assaults  assaultPerPop    burglaries   burglPerPop  \\\n",
       "count  2214.000000   2202.000000    2202.000000   2212.000000   2212.000000   \n",
       "mean    162.612597    326.528156     378.004605    761.236890   1033.430203   \n",
       "std     234.486624   1987.947941     438.238599   3111.702756    763.354442   \n",
       "min       0.000000      0.000000       0.000000      2.000000     16.920000   \n",
       "25%      27.647500     18.000000      94.187500     95.000000    511.690000   \n",
       "50%      74.800000     56.000000     226.525000    205.000000    822.715000   \n",
       "75%     187.155000    180.000000     504.387500    508.000000   1350.232500   \n",
       "max    2264.130000  62778.000000    4932.500000  99207.000000  11881.020000   \n",
       "\n",
       "           larcenies    larcPerPop      autoTheft  autoTheftPerPop  \\\n",
       "count    2212.000000   2212.000000    2212.000000      2212.000000   \n",
       "mean     2137.629295   3372.979150     516.692586       473.965628   \n",
       "std      7600.573464   1901.316145    3258.164244       504.666026   \n",
       "min        10.000000     77.860000       1.000000         6.550000   \n",
       "25%       392.000000   2040.080000      30.000000       156.952500   \n",
       "50%       747.000000   3079.510000      75.000000       302.355000   \n",
       "75%      1675.000000   4335.410000     232.500000       589.775000   \n",
       "max    235132.000000  25910.550000  112464.000000      4968.590000   \n",
       "\n",
       "            arsons  arsonsPerPop  ViolentCrimesPerPop  nonViolPerPop  \n",
       "count  2124.000000   2124.000000          1994.000000    2118.000000  \n",
       "mean     30.907721     32.153682           589.078922    4908.241804  \n",
       "std     180.125248     39.240900           614.784518    2739.708901  \n",
       "min       0.000000      0.000000             0.000000     116.790000  \n",
       "25%       1.000000      7.670000           161.700000    2918.070000  \n",
       "50%       5.000000     21.080000           374.060000    4425.450000  \n",
       "75%      16.000000     42.852500           794.400000    6229.280000  \n",
       "max    5119.000000    436.370000          4877.060000   27119.760000  "
      ]
     },
     "execution_count": 8,
     "metadata": {},
     "output_type": "execute_result"
    }
   ],
   "source": [
    "regr_values.describe()"
   ]
  },
  {
   "cell_type": "code",
   "execution_count": 13,
   "metadata": {},
   "outputs": [],
   "source": [
    "def drop_naSample(df, vals):\n",
    "    idxRow = np.where(vals.isna())[0]\n",
    "    return df.drop(index=idxRow).values, vals.drop(index=idxRow).values.reshape(-1,1)"
   ]
  },
  {
   "cell_type": "code",
   "execution_count": 14,
   "metadata": {},
   "outputs": [],
   "source": [
    "dep_var = \"nonViolPerPop\"\n",
    "data,values = drop_naSample(pred_features, regr_values[dep_var])"
   ]
  },
  {
   "cell_type": "markdown",
   "metadata": {},
   "source": [
    "# Exploratory Data Analysis"
   ]
  },
  {
   "cell_type": "code",
   "execution_count": 15,
   "metadata": {},
   "outputs": [
    {
     "data": {
      "text/plain": [
       "count     2118.000000\n",
       "mean      4908.241804\n",
       "std       2739.708901\n",
       "min        116.790000\n",
       "25%       2918.070000\n",
       "50%       4425.450000\n",
       "75%       6229.280000\n",
       "max      27119.760000\n",
       "Name: nonViolPerPop, dtype: float64"
      ]
     },
     "execution_count": 15,
     "metadata": {},
     "output_type": "execute_result"
    }
   ],
   "source": [
    "regr_values[dep_var].describe()"
   ]
  },
  {
   "cell_type": "code",
   "execution_count": 16,
   "metadata": {},
   "outputs": [
    {
     "data": {
      "image/png": "[encoded data removed]",
      "text/plain": [
       "<Figure size 1080x720 with 1 Axes>"
      ]
     },
     "metadata": {
      "needs_background": "light"
     },
     "output_type": "display_data"
    }
   ],
   "source": [
    "plt.figure(figsize=(15,10))\n",
    "plt.plot(values, 'o')\n",
    "plt.title(\"Output Values Scatterplot\")\n",
    "plt.xlabel(\"Samples\")\n",
    "plt.ylabel(\"Values\")\n",
    "plt.grid()"
   ]
  },
  {
   "cell_type": "code",
   "execution_count": 17,
   "metadata": {},
   "outputs": [
    {
     "data": {
      "image/png": "[encoded data removed]",
      "text/plain": [
       "<Figure size 1152x360 with 1 Axes>"
      ]
     },
     "metadata": {
      "needs_background": "light"
     },
     "output_type": "display_data"
    }
   ],
   "source": [
    "plt.figure(figsize=(16,5))\n",
    "counts,bins,_ = plt.hist(values,bins=20)\n",
    "\n",
    "bin_centers = 0.5 * np.diff(bins) + bins[:-1]\n",
    "for count, x in zip(counts, bin_centers):\n",
    "    # Label the raw counts\n",
    "    plt.annotate(str(count), xy=(x, 0), xycoords=('data', 'axes fraction'),\n",
    "        xytext=(0, -20), textcoords='offset points', va='top', ha='center')\n",
    "\n",
    "    # Label the percentages\n",
    "    percent = '%0.0f%%' % (100 * float(count) / counts.sum())\n",
    "    plt.annotate(percent, xy=(x, 0), xycoords=('data', 'axes fraction'),\n",
    "        xytext=(0, -35), textcoords='offset points', va='top', ha='center')\n",
    "    \n",
    "plt.title(\"Ouput values histogram\")\n",
    "plt.xticks(bins)\n",
    "plt.show()"
   ]
  },
  {
   "cell_type": "code",
   "execution_count": 18,
   "metadata": {},
   "outputs": [],
   "source": [
    "def sample_pearsonCorrelation_withOutput(X, y):\n",
    "    # r_x_y = cov(x,y)/(stdev(x)*stdev(y))\n",
    "    _,d = X.shape\n",
    "    corr = np.empty((d,1))\n",
    "    \n",
    "    y_centered = y-np.mean(y)\n",
    "    y_stdev = np.std(y)\n",
    "    \n",
    "    for i in range(d):\n",
    "        current = X[:,i]\n",
    "        corr[i] = np.mean(np.multiply(current-np.mean(current), y_centered))/(np.std(current)*y_stdev)\n",
    "        \n",
    "    return corr"
   ]
  },
  {
   "cell_type": "code",
   "execution_count": 19,
   "metadata": {},
   "outputs": [
    {
     "data": {
      "image/png": "[encoded data removed]",
      "text/plain": [
       "<Figure size 1152x360 with 1 Axes>"
      ]
     },
     "metadata": {
      "needs_background": "light"
     },
     "output_type": "display_data"
    }
   ],
   "source": [
    "p_corr = sample_pearsonCorrelation_withOutput(data, values)\n",
    "\n",
    "plt.figure(figsize=(16,5))\n",
    "plt.plot(p_corr, \"o\")\n",
    "plt.title(\"Feature Pearson correlation with output\")\n",
    "plt.xticks(range(len(pred_features.columns)), pred_features.columns, rotation=90)\n",
    "plt.xlabel(\"Features\")\n",
    "plt.xlim(-1,102)\n",
    "plt.ylabel(\"Correlation\")\n",
    "plt.grid()"
   ]
  },
  {
   "cell_type": "markdown",
   "metadata": {},
   "source": [
    "# Normalisation"
   ]
  },
  {
   "cell_type": "code",
   "execution_count": 20,
   "metadata": {},
   "outputs": [],
   "source": [
    "def normalise(matrix, strat):\n",
    "    for j in range(matrix.shape[1]):\n",
    "        mi = np.min(matrix[:,j])\n",
    "        ma = np.max(matrix[:,j])\n",
    "        di = ma-mi\n",
    "        if (di > 1e-6):\n",
    "            if strat==\"0_mean,1_std\":\n",
    "                matrix[:,j] = (matrix[:,j]-np.mean(matrix[:,j]))/np.std(matrix[:,j])\n",
    "            elif strat==\"[0,1]\":\n",
    "                matrix[:,j] = (matrix[:,j]-mi)/di\n",
    "            elif strat==\"[-1,1]\":\n",
    "                matrix[:,j] = 2*((matrix[:,j]-mi)/di)-1\n",
    "            else:\n",
    "                print(\"Invalid normalisation strategy!\")\n",
    "        else:\n",
    "            matrix[:,j] = 0"
   ]
  },
  {
   "cell_type": "code",
   "execution_count": 21,
   "metadata": {},
   "outputs": [],
   "source": [
    "strategy = \"[-1,1]\"\n",
    "normalise(data,strategy)\n",
    "normalise(values,strategy)"
   ]
  },
  {
   "cell_type": "markdown",
   "metadata": {},
   "source": [
    "# Train-Test Split"
   ]
  },
  {
   "cell_type": "code",
   "execution_count": 22,
   "metadata": {},
   "outputs": [],
   "source": [
    "def trainTest_split(in_matrix, out_vect, train_amount=0.7):\n",
    "    n,_ = in_matrix.shape\n",
    "\n",
    "    trVl_Amount = int(n*train_amount) #training-validation amount\n",
    "    indexes = np.random.permutation(n)\n",
    "    idxTrVl = np.sort(indexes[0:trVl_Amount])\n",
    "    idxTs = np.sort(indexes[trVl_Amount:])\n",
    "\n",
    "    return in_matrix[idxTrVl], in_matrix[idxTs], out_vect[idxTrVl], out_vect[idxTs]"
   ]
  },
  {
   "cell_type": "code",
   "execution_count": 23,
   "metadata": {},
   "outputs": [],
   "source": [
    "trainVal_data, test_data, trainVal_values, test_values = trainTest_split(data, values, train_amount=0.7)"
   ]
  },
  {
   "cell_type": "markdown",
   "metadata": {},
   "source": [
    "# Evaluation Metrics"
   ]
  },
  {
   "cell_type": "code",
   "execution_count": 24,
   "metadata": {},
   "outputs": [],
   "source": [
    "class Regression_evaluationMetric:\n",
    "    def __init__(self, true, predicted):\n",
    "        self.true = true.flatten()\n",
    "        self.predicted = predicted.flatten()\n",
    "        self.residuals = self.true-self.predicted\n",
    "    \n",
    "    def meanSquareError(self):\n",
    "        return np.mean(np.square(self.residuals))\n",
    "    \n",
    "    def rootMeanSquareError(self):\n",
    "        return np.sqrt(np.mean(np.square(self.residuals)))\n",
    "    \n",
    "    def meanAbsoluteError(self):\n",
    "        return np.mean(np.abs(self.residuals))\n",
    "    \n",
    "    def rSquared(self):\n",
    "        ss_residual = np.sum(np.square(self.residuals))\n",
    "        ss_total = np.sum(np.square(self.true-np.mean(self.true)))        \n",
    "        return 1 - ss_residual/ss_total\n",
    "    \n",
    "    def adjusted_rSquared(self, p):\n",
    "        n = self.true.shape[0]\n",
    "        return 1-(1-self.rSquared())*((n-1)/(n-p-1))"
   ]
  },
  {
   "cell_type": "markdown",
   "metadata": {},
   "source": [
    "\n",
    "# Variable Selection - Models Definition"
   ]
  },
  {
   "cell_type": "markdown",
   "metadata": {},
   "source": [
    "## 0. K-fold Cross Validation"
   ]
  },
  {
   "cell_type": "code",
   "execution_count": 25,
   "metadata": {},
   "outputs": [],
   "source": [
    "from itertools import product\n",
    "\n",
    "def kFold_crossValidation_selectionGrid(k, parameters_dict, train_data, train_values, predictor, verbose=False):\n",
    "    nVal,_ = train_data.shape\n",
    "    \n",
    "    # Validation indexes adjustment -------------------------------\n",
    "    elemPerFold, remainder = np.divmod(nVal,k) #the remainder will be distributed across the firsts folds\n",
    "    valIdxList = []\n",
    "    start = 0\n",
    "\n",
    "    # in each fold put as many samples as the division quotient +1 if the remainder is still positive\n",
    "    # then decrease the division remainder by 1\n",
    "    for i in range(k): \n",
    "        end = start+elemPerFold+int(remainder>0)\n",
    "        valIdxList.append(np.arange(start,end)) \n",
    "        remainder -= 1\n",
    "        start = end\n",
    "    \n",
    "    # Cross validation --------------------------------------------\n",
    "    params_names = parameters_dict.keys()\n",
    "    params_product = list(product(*parameters_dict.values())) # build all the hyp-par combination\n",
    "    val_results = np.empty((len(valIdxList),len(params_product)))\n",
    "    \n",
    "    for row, valIdx in enumerate(valIdxList): # for each fold\n",
    "        if verbose: print(\"#{} fold:\".format(row+1))\n",
    "        for col, params in enumerate(params_product):\n",
    "            \n",
    "            if verbose:\n",
    "                update = col*100/len(params_product) # just print completion rate\n",
    "                print(\"\\t[\"+\"#\"*(int(update/5))+\" \"*(int((100-update)/5))+\"] {}%\".format(update))\n",
    "                     \n",
    "            arg_dict = {k:v for k,v in zip(params_names,params)} # {argument_name:argument_value, ... }\n",
    "            \n",
    "            \n",
    "            predictor.fit(train_data[~valIdx], train_values[~valIdx], **arg_dict)\n",
    "            pred = predictor.predict(train_data[valIdx])\n",
    "            \n",
    "            rem = Regression_evaluationMetric(trainVal_values[valIdx], pred)\n",
    "            #val_results[row,col] = rem.rSquared()\n",
    "            val_results[row,col] = rem.rootMeanSquareError()\n",
    "            \n",
    "    selected = np.argmin(val_results.mean(axis=0))\n",
    "    return params_product[selected]"
   ]
  },
  {
   "cell_type": "markdown",
   "metadata": {},
   "source": [
    "## 1. Matching Pursuit - Not Working (use the sklearn model)"
   ]
  },
  {
   "cell_type": "markdown",
   "metadata": {},
   "source": [
    "### Project class definition"
   ]
  },
  {
   "cell_type": "code",
   "execution_count": 26,
   "metadata": {},
   "outputs": [],
   "source": [
    "class matchingPursuit:\n",
    "    def __init__(self, iterations, weights = None, indexes = None):\n",
    "        self.iterations = iterations\n",
    "        self.weights = weights\n",
    "        self.indexes = indexes\n",
    "        \n",
    "    def fit(self, data_matrix, output_vect):\n",
    "        residual = output_vect.copy()\n",
    "        self.weights = np.zeros((data_matrix.shape[1], 1))\n",
    "        self.indexes = []\n",
    "\n",
    "        #data_2norm = np.sqrt(np.sum(np.square(data_matrix), axis=0))\n",
    "        data_2norm = np.linalg.norm(data_matrix, ord=2, axis=0).reshape(1,-1)\n",
    "\n",
    "        for i in range(self.iterations):\n",
    "            \n",
    "            # project each column on the current residuals\n",
    "            projection = np.matmul(residual.T, data_matrix)\n",
    "            # find the most correlated variable: the one that in norm maximise the projections\n",
    "            k = np.argmax(np.divide(np.square(projection), data_2norm))\n",
    "            self.indexes.append(k)\n",
    "            \n",
    "            distance = projection[0,k]/np.linalg.norm(data_matrix[:,k], ord=2)\n",
    "            self.weights[k,0] += distance # update the solution vector: canonical basis over the found column\n",
    "            residual -= np.matmul(data_matrix, self.weights) # update the residual\n",
    "\n",
    "        return self\n",
    "    \n",
    "    \n",
    "    def predict(self, X):\n",
    "        if self.weights is None:\n",
    "            raise Exception(\"weights not initialised! need to first fit the model\")\n",
    "        return np.matmul(X, self.weights)\n",
    "    \n",
    "    \n",
    "    def sort_featureImportances(self, columns=None, num=0):\n",
    "        if self.weights is None:\n",
    "            raise Exception(\"Need to first fit the model!\")\n",
    "            \n",
    "        d = len(self.weights)\n",
    "        n_printFeat = d if not num else num\n",
    "        \n",
    "        if columns is None:\n",
    "            return sorted(zip(range(d),self.weights), key=lambda kv: abs(kv[1]), reverse=True)[:n_printFeat]\n",
    "\n",
    "        if len(columns) != d:\n",
    "            raise Exception(\"Argument list lenght differs from feature total amount\")\n",
    "        return sorted(zip(columns, self.weights), key=lambda kv: abs(kv[1]), reverse=True)[:n_printFeat]"
   ]
  },
  {
   "cell_type": "code",
   "execution_count": 27,
   "metadata": {
    "scrolled": true
   },
   "outputs": [
    {
     "data": {
      "text/plain": [
       "[('NumStreet', array([-2.80364486e+15])),\n",
       " ('population', array([0.])),\n",
       " ('householdsize', array([0.])),\n",
       " ('racepctblack', array([0.])),\n",
       " ('racePctWhite', array([0.])),\n",
       " ('racePctAsian', array([0.])),\n",
       " ('racePctHisp', array([0.])),\n",
       " ('agePct12t21', array([0.])),\n",
       " ('agePct12t29', array([0.])),\n",
       " ('agePct16t24', array([0.])),\n",
       " ('agePct65up', array([0.])),\n",
       " ('numbUrban', array([0.])),\n",
       " ('pctUrban', array([0.])),\n",
       " ('medIncome', array([0.])),\n",
       " ('pctWWage', array([0.])),\n",
       " ('pctWFarmSelf', array([0.])),\n",
       " ('pctWInvInc', array([0.])),\n",
       " ('pctWSocSec', array([0.])),\n",
       " ('pctWPubAsst', array([0.])),\n",
       " ('pctWRetire', array([0.])),\n",
       " ('medFamInc', array([0.])),\n",
       " ('perCapInc', array([0.])),\n",
       " ('whitePerCap', array([0.])),\n",
       " ('blackPerCap', array([0.])),\n",
       " ('indianPerCap', array([0.])),\n",
       " ('AsianPerCap', array([0.])),\n",
       " ('OtherPerCap', array([0.])),\n",
       " ('HispPerCap', array([0.])),\n",
       " ('NumUnderPov', array([0.])),\n",
       " ('PctPopUnderPov', array([0.])),\n",
       " ('PctLess9thGrade', array([0.])),\n",
       " ('PctNotHSGrad', array([0.])),\n",
       " ('PctBSorMore', array([0.])),\n",
       " ('PctUnemployed', array([0.])),\n",
       " ('PctEmploy', array([0.])),\n",
       " ('PctEmplManu', array([0.])),\n",
       " ('PctEmplProfServ', array([0.])),\n",
       " ('PctOccupManu', array([0.])),\n",
       " ('PctOccupMgmtProf', array([0.])),\n",
       " ('MalePctDivorce', array([0.])),\n",
       " ('MalePctNevMarr', array([0.])),\n",
       " ('FemalePctDiv', array([0.])),\n",
       " ('TotalPctDiv', array([0.])),\n",
       " ('PersPerFam', array([0.])),\n",
       " ('PctFam2Par', array([0.])),\n",
       " ('PctKids2Par', array([0.])),\n",
       " ('PctYoungKids2Par', array([0.])),\n",
       " ('PctTeen2Par', array([0.])),\n",
       " ('PctWorkMomYoungKids', array([0.])),\n",
       " ('PctWorkMom', array([0.])),\n",
       " ('NumKidsBornNeverMar', array([0.])),\n",
       " ('PctKidsBornNeverMar', array([0.])),\n",
       " ('NumImmig', array([0.])),\n",
       " ('PctImmigRecent', array([0.])),\n",
       " ('PctImmigRec5', array([0.])),\n",
       " ('PctImmigRec8', array([0.])),\n",
       " ('PctImmigRec10', array([0.])),\n",
       " ('PctRecentImmig', array([0.])),\n",
       " ('PctRecImmig5', array([0.])),\n",
       " ('PctRecImmig8', array([0.])),\n",
       " ('PctRecImmig10', array([0.])),\n",
       " ('PctSpeakEnglOnly', array([0.])),\n",
       " ('PctNotSpeakEnglWell', array([0.])),\n",
       " ('PctLargHouseFam', array([0.])),\n",
       " ('PctLargHouseOccup', array([0.])),\n",
       " ('PersPerOccupHous', array([0.])),\n",
       " ('PersPerOwnOccHous', array([0.])),\n",
       " ('PersPerRentOccHous', array([0.])),\n",
       " ('PctPersOwnOccup', array([0.])),\n",
       " ('PctPersDenseHous', array([0.])),\n",
       " ('PctHousLess3BR', array([0.])),\n",
       " ('MedNumBR', array([0.])),\n",
       " ('HousVacant', array([0.])),\n",
       " ('PctHousOccup', array([0.])),\n",
       " ('PctHousOwnOcc', array([0.])),\n",
       " ('PctVacantBoarded', array([0.])),\n",
       " ('PctVacMore6Mos', array([0.])),\n",
       " ('MedYrHousBuilt', array([0.])),\n",
       " ('PctHousNoPhone', array([0.])),\n",
       " ('PctWOFullPlumb', array([0.])),\n",
       " ('OwnOccLowQuart', array([0.])),\n",
       " ('OwnOccMedVal', array([0.])),\n",
       " ('OwnOccHiQuart', array([0.])),\n",
       " ('OwnOccQrange', array([0.])),\n",
       " ('RentLowQ', array([0.])),\n",
       " ('RentMedian', array([0.])),\n",
       " ('RentHighQ', array([0.])),\n",
       " ('RentQrange', array([0.])),\n",
       " ('MedRent', array([0.])),\n",
       " ('MedRentPctHousInc', array([0.])),\n",
       " ('MedOwnCostPctInc', array([0.])),\n",
       " ('MedOwnCostPctIncNoMtg', array([0.])),\n",
       " ('NumInShelters', array([0.])),\n",
       " ('PctForeignBorn', array([0.])),\n",
       " ('PctBornSameState', array([0.])),\n",
       " ('PctSameHouse85', array([0.])),\n",
       " ('PctSameCity85', array([0.])),\n",
       " ('PctSameState85', array([0.])),\n",
       " ('LandArea', array([0.])),\n",
       " ('PopDens', array([0.])),\n",
       " ('PctUsePubTrans', array([0.])),\n",
       " ('LemasPctOfficDrugUn', array([0.]))]"
      ]
     },
     "execution_count": 27,
     "metadata": {},
     "output_type": "execute_result"
    }
   ],
   "source": [
    "mp = matchingPursuit(iterations=10)\n",
    "mp.fit(trainVal_data, trainVal_values)\n",
    "mp.sort_featureImportances(columns=pred_features.columns)"
   ]
  },
  {
   "cell_type": "code",
   "execution_count": 28,
   "metadata": {},
   "outputs": [
    {
     "name": "stdout",
     "output_type": "stream",
     "text": [
      "Residual variance: 5.486815368111316e+28\n",
      "Root Mean Square Error: 2795586803885630.0\n",
      "R^2 score: -1.6652783810612477e+32\n"
     ]
    }
   ],
   "source": [
    "pred = mp.predict(test_data)\n",
    "rem = Regression_evaluationMetric(test_values, pred)\n",
    "\n",
    "print(\"Residual variance: {}\".format(np.var(test_values-pred)))\n",
    "\n",
    "print(\"Root Mean Square Error: {}\".format(rem.rootMeanSquareError()))\n",
    "print(\"R^2 score: {}\".format(rem.rSquared()))"
   ]
  },
  {
   "cell_type": "markdown",
   "metadata": {},
   "source": [
    "### SkLearn Class"
   ]
  },
  {
   "cell_type": "code",
   "execution_count": 29,
   "metadata": {},
   "outputs": [
    {
     "data": {
      "text/plain": [
       "array([11, 34, 37, 38, 44, 55, 60, 76, 89, 92])"
      ]
     },
     "execution_count": 29,
     "metadata": {},
     "output_type": "execute_result"
    }
   ],
   "source": [
    "from sklearn.linear_model import orthogonal_mp\n",
    "omp_coef = orthogonal_mp(trainVal_data, trainVal_values)\n",
    "np.where(omp_coef)[0]"
   ]
  },
  {
   "cell_type": "code",
   "execution_count": 30,
   "metadata": {},
   "outputs": [
    {
     "name": "stdout",
     "output_type": "stream",
     "text": [
      "Residual variance: 0.07133408990167683\n",
      "Root Mean Square Error: 0.16445016783886562\n",
      "R^2 score: 0.42375187864113717\n"
     ]
    }
   ],
   "source": [
    "pred = np.matmul(test_data, omp_coef)\n",
    "rem = Regression_evaluationMetric(test_values, pred)\n",
    "\n",
    "print(\"Residual variance: {}\".format(np.var(test_values-pred)))\n",
    "\n",
    "print(\"Root Mean Square Error: {}\".format(rem.rootMeanSquareError()))\n",
    "print(\"R^2 score: {}\".format(rem.rSquared()))"
   ]
  },
  {
   "cell_type": "markdown",
   "metadata": {},
   "source": [
    "## 2. L1 Penalty (Lasso) with Proximal Gradient - Not Working (use the sklearn model)"
   ]
  },
  {
   "cell_type": "markdown",
   "metadata": {},
   "source": [
    "### Project class definition"
   ]
  },
  {
   "cell_type": "code",
   "execution_count": 31,
   "metadata": {},
   "outputs": [],
   "source": [
    "class lasso_regression: # Iterative Soft Thresholding Algorithm\n",
    "    def __init__(self, iterations, weights=None):\n",
    "        self.iterations = iterations\n",
    "        self.weights = weights\n",
    "        \n",
    "    def fit(self, data_matrix, output_vect, _lambda):\n",
    "        n,d = data_matrix.shape\n",
    "        self.weights = np.zeros((d,1))\n",
    "        \n",
    "        # convergence step-size: n/(2*||X^t*X||_2)\n",
    "        step = n/(2*np.linalg.norm(np.matmul(data_matrix.T, data_matrix), ord=2))\n",
    "        softTresh = step*_lambda\n",
    "\n",
    "        for i in range(self.iterations):\n",
    "            # gradient step of the mse formulation\n",
    "            resid = np.matmul(data_matrix, self.weights) - output_vect\n",
    "            grad_descent = (step/n)*np.matmul(data_matrix.T, resid)\n",
    "            self.weights -= 2*grad_descent\n",
    "\n",
    "            # proximal operator\n",
    "            upper = self.weights > softTresh  # elem to be reduced\n",
    "            lower = self.weights < -softTresh # elem to be increased\n",
    "            self.weights[upper] -= softTresh\n",
    "            self.weights[lower] += softTresh\n",
    "            self.weights[~upper & ~lower] = 0\n",
    "\n",
    "        return self\n",
    "    \n",
    "    def predict(self, X):\n",
    "        if self.weights is None:\n",
    "            raise Exception(\"weights not initialised! need to first fit the model\")\n",
    "        return np.matmul(X, self.weights)\n",
    "    \n",
    "    def sort_featureImportances(self, columns=None, num=0):\n",
    "        if self.weights is None:\n",
    "            raise Exception(\"Need to first fit the model!\")\n",
    "            \n",
    "        d = len(self.weights)\n",
    "        n_printFeat = d if not num else num\n",
    "        \n",
    "        if columns is None:\n",
    "            return sorted(zip(range(d),self.weights), key=lambda kv: abs(kv[1]), reverse=True)[:n_printFeat]\n",
    "\n",
    "        if len(columns) != d:\n",
    "            raise Exception(\"Argument list lenght differs from feature total amount\")\n",
    "        return sorted(zip(columns, self.weights), key=lambda kv: abs(kv[1]), reverse=True)[:n_printFeat]"
   ]
  },
  {
   "cell_type": "code",
   "execution_count": 32,
   "metadata": {
    "scrolled": true
   },
   "outputs": [
    {
     "data": {
      "text/plain": [
       "[('NumStreet', array([0.07461327])),\n",
       " ('NumInShelters', array([0.06935664])),\n",
       " ('NumKidsBornNeverMar', array([0.06355184])),\n",
       " ('NumImmig', array([0.05751336])),\n",
       " ('NumUnderPov', array([0.05142374])),\n",
       " ('population', array([0.0381238])),\n",
       " ('numbUrban', array([0.02982459])),\n",
       " ('HousVacant', array([0.01752796])),\n",
       " ('householdsize', array([0.])),\n",
       " ('racepctblack', array([0.])),\n",
       " ('racePctWhite', array([0.])),\n",
       " ('racePctAsian', array([0.])),\n",
       " ('racePctHisp', array([0.])),\n",
       " ('agePct12t21', array([0.])),\n",
       " ('agePct12t29', array([0.])),\n",
       " ('agePct16t24', array([0.])),\n",
       " ('agePct65up', array([0.])),\n",
       " ('pctUrban', array([0.])),\n",
       " ('medIncome', array([0.])),\n",
       " ('pctWWage', array([0.])),\n",
       " ('pctWFarmSelf', array([0.])),\n",
       " ('pctWInvInc', array([0.])),\n",
       " ('pctWSocSec', array([0.])),\n",
       " ('pctWPubAsst', array([0.])),\n",
       " ('pctWRetire', array([0.])),\n",
       " ('medFamInc', array([0.])),\n",
       " ('perCapInc', array([0.])),\n",
       " ('whitePerCap', array([0.])),\n",
       " ('blackPerCap', array([0.])),\n",
       " ('indianPerCap', array([0.])),\n",
       " ('AsianPerCap', array([0.])),\n",
       " ('OtherPerCap', array([0.])),\n",
       " ('HispPerCap', array([0.])),\n",
       " ('PctPopUnderPov', array([0.])),\n",
       " ('PctLess9thGrade', array([0.])),\n",
       " ('PctNotHSGrad', array([0.])),\n",
       " ('PctBSorMore', array([0.])),\n",
       " ('PctUnemployed', array([0.])),\n",
       " ('PctEmploy', array([0.])),\n",
       " ('PctEmplManu', array([0.])),\n",
       " ('PctEmplProfServ', array([0.])),\n",
       " ('PctOccupManu', array([0.])),\n",
       " ('PctOccupMgmtProf', array([0.])),\n",
       " ('MalePctDivorce', array([0.])),\n",
       " ('MalePctNevMarr', array([0.])),\n",
       " ('FemalePctDiv', array([0.])),\n",
       " ('TotalPctDiv', array([0.])),\n",
       " ('PersPerFam', array([0.])),\n",
       " ('PctFam2Par', array([0.])),\n",
       " ('PctKids2Par', array([0.])),\n",
       " ('PctYoungKids2Par', array([0.])),\n",
       " ('PctTeen2Par', array([0.])),\n",
       " ('PctWorkMomYoungKids', array([0.])),\n",
       " ('PctWorkMom', array([0.])),\n",
       " ('PctKidsBornNeverMar', array([0.])),\n",
       " ('PctImmigRecent', array([0.])),\n",
       " ('PctImmigRec5', array([0.])),\n",
       " ('PctImmigRec8', array([0.])),\n",
       " ('PctImmigRec10', array([0.])),\n",
       " ('PctRecentImmig', array([0.])),\n",
       " ('PctRecImmig5', array([0.])),\n",
       " ('PctRecImmig8', array([0.])),\n",
       " ('PctRecImmig10', array([0.])),\n",
       " ('PctSpeakEnglOnly', array([0.])),\n",
       " ('PctNotSpeakEnglWell', array([0.])),\n",
       " ('PctLargHouseFam', array([0.])),\n",
       " ('PctLargHouseOccup', array([0.])),\n",
       " ('PersPerOccupHous', array([0.])),\n",
       " ('PersPerOwnOccHous', array([0.])),\n",
       " ('PersPerRentOccHous', array([0.])),\n",
       " ('PctPersOwnOccup', array([0.])),\n",
       " ('PctPersDenseHous', array([0.])),\n",
       " ('PctHousLess3BR', array([0.])),\n",
       " ('MedNumBR', array([0.])),\n",
       " ('PctHousOccup', array([0.])),\n",
       " ('PctHousOwnOcc', array([0.])),\n",
       " ('PctVacantBoarded', array([0.])),\n",
       " ('PctVacMore6Mos', array([0.])),\n",
       " ('MedYrHousBuilt', array([0.])),\n",
       " ('PctHousNoPhone', array([0.])),\n",
       " ('PctWOFullPlumb', array([0.])),\n",
       " ('OwnOccLowQuart', array([0.])),\n",
       " ('OwnOccMedVal', array([0.])),\n",
       " ('OwnOccHiQuart', array([0.])),\n",
       " ('OwnOccQrange', array([0.])),\n",
       " ('RentLowQ', array([0.])),\n",
       " ('RentMedian', array([0.])),\n",
       " ('RentHighQ', array([0.])),\n",
       " ('RentQrange', array([0.])),\n",
       " ('MedRent', array([0.])),\n",
       " ('MedRentPctHousInc', array([0.])),\n",
       " ('MedOwnCostPctInc', array([0.])),\n",
       " ('MedOwnCostPctIncNoMtg', array([0.])),\n",
       " ('PctForeignBorn', array([0.])),\n",
       " ('PctBornSameState', array([0.])),\n",
       " ('PctSameHouse85', array([0.])),\n",
       " ('PctSameCity85', array([0.])),\n",
       " ('PctSameState85', array([0.])),\n",
       " ('LandArea', array([0.])),\n",
       " ('PopDens', array([0.])),\n",
       " ('PctUsePubTrans', array([0.])),\n",
       " ('LemasPctOfficDrugUn', array([0.]))]"
      ]
     },
     "execution_count": 32,
     "metadata": {},
     "output_type": "execute_result"
    }
   ],
   "source": [
    "lr = lasso_regression(iterations=1000)\n",
    "lr.fit(trainVal_data, trainVal_values, 0.5)\n",
    "lr.sort_featureImportances(columns=pred_features.columns)"
   ]
  },
  {
   "cell_type": "code",
   "execution_count": 33,
   "metadata": {
    "scrolled": true
   },
   "outputs": [
    {
     "name": "stdout",
     "output_type": "stream",
     "text": [
      "Residual variance: 0.04683750379420932\n",
      "Root Mean Square Error: 0.3197503021433651\n",
      "R^2 score: -1.1785263010567038\n"
     ]
    }
   ],
   "source": [
    "pred = lr.predict(test_data)\n",
    "rem = Regression_evaluationMetric(test_values, pred)\n",
    "\n",
    "print(\"Residual variance: {}\".format(np.var(test_values-pred)))\n",
    "\n",
    "print(\"Root Mean Square Error: {}\".format(rem.rootMeanSquareError()))\n",
    "print(\"R^2 score: {}\".format(rem.rSquared()))"
   ]
  },
  {
   "cell_type": "markdown",
   "metadata": {},
   "source": [
    "### SkLearn Class"
   ]
  },
  {
   "cell_type": "code",
   "execution_count": 34,
   "metadata": {},
   "outputs": [
    {
     "data": {
      "text/plain": [
       "array([11, 28, 34, 38, 40, 44, 55, 70, 76, 77, 85, 94])"
      ]
     },
     "execution_count": 34,
     "metadata": {},
     "output_type": "execute_result"
    }
   ],
   "source": [
    "from sklearn.linear_model import Lasso\n",
    "\n",
    "lasso = Lasso(alpha=0.005)\n",
    "lasso.fit(trainVal_data, trainVal_values)\n",
    "np.where(lasso.coef_)[0]"
   ]
  },
  {
   "cell_type": "code",
   "execution_count": 35,
   "metadata": {},
   "outputs": [
    {
     "name": "stdout",
     "output_type": "stream",
     "text": [
      "Residual variance: 0.06278192711012595\n",
      "Root Mean Square Error: 0.1635044025430267\n",
      "R^2 score: 0.4303609119685199\n"
     ]
    }
   ],
   "source": [
    "pred = lasso.predict(test_data)\n",
    "rem = Regression_evaluationMetric(test_values, pred)\n",
    "\n",
    "print(\"Residual variance: {}\".format(np.var(test_values-pred)))\n",
    "\n",
    "print(\"Root Mean Square Error: {}\".format(rem.rootMeanSquareError()))\n",
    "print(\"R^2 score: {}\".format(rem.rSquared()))"
   ]
  },
  {
   "cell_type": "markdown",
   "metadata": {},
   "source": [
    "## 3. Random Forest"
   ]
  },
  {
   "cell_type": "markdown",
   "metadata": {},
   "source": [
    "### Project Decision Tree class definition"
   ]
  },
  {
   "cell_type": "code",
   "execution_count": 36,
   "metadata": {},
   "outputs": [],
   "source": [
    "class NumericalDecisionTree_regressor: # Least Square Regression Tree with either fixed parameter or pruning\n",
    "    class Node:\n",
    "        def __init__(self, isLeaf=False, feature=None, feature_importance=None, cut=None, average=None,\n",
    "                     left=None, right=None):\n",
    "            self.isLeaf = isLeaf\n",
    "            self.feature = feature # if internal, on wich feature it executes the split\n",
    "            self.feature_importance = feature_importance # solution variance reduction\n",
    "            self.cut = cut # if internal, threahold value for the cut\n",
    "            self.avg = average # mean of seen training values\n",
    "            self.left = left\n",
    "            self.right = right\n",
    "\n",
    "        def print_tree(self):\n",
    "            if self.left: self.left.print_tree()\n",
    "            if self.cut:\n",
    "                print(\"Feature: {}, cut: {}\\n\".format(self.feature, self.cut))\n",
    "            else:\n",
    "                print(\"Leaf => {}\\n\".format(self.avg))\n",
    "            if self.right: self.right.print_tree()\n",
    "\n",
    "        def print_tree_indented(self, level=0):\n",
    "            if self.right: self.right.print_tree_indented(level+1)\n",
    "            if self.cut:\n",
    "                print(\"|    \"*level+\"{} => {}\".format(self.feature, self.cut))\n",
    "            else:\n",
    "                print(\"|    \"*level+\"Leaf: {}\".format(self.avg))                \n",
    "            if self.left: self.left.print_tree_indented(level+1)\n",
    "            \n",
    "    def __init__(self, root=None, feature_importances=None):\n",
    "        self.root = root\n",
    "        self.feature_importances = feature_importances\n",
    "\n",
    "        \n",
    "    def fit(self, X, y, depth, minElems_perLeaf, post_pruning=False):\n",
    "        \n",
    "        self.feature_importances = {k:0 for k in range(X.shape[1])}\n",
    "        \n",
    "        if not post_pruning:\n",
    "            self.root = self.learn(X, y.flatten(), depth, minElems_perLeaf)\n",
    "        else:\n",
    "            # train dataset, pruning dataset\n",
    "            X_trn, X_val, y_trn, y_val = trainTest_split(X, y.flatten(), train_amount=0.7)\n",
    "            self.root = self.learn(X_trn, y_trn, depth, minElems_perLeaf)\n",
    "            self.prune(X_val, y_val)\n",
    "        \n",
    "        return self\n",
    "        \n",
    "    def learn(self, X, y, depth, minElems_perLeaf):\n",
    "        n, d = X.shape\n",
    "\n",
    "        if depth==0 or n<=minElems_perLeaf: # leaf # or fraction error of the root node??? \n",
    "            return self.Node(isLeaf=True, average=np.mean(y))\n",
    "            \n",
    "        best_costDescent = np.float(\"-inf\") # split that maximise the error descent\n",
    "\n",
    "        for i1 in range(d):\n",
    "            sorted_idx = np.argsort(X[:,i1])\n",
    "            sorted_x, sorted_y = X[sorted_idx, i1], y[sorted_idx]\n",
    "\n",
    "            s_right, s_left = np.sum(sorted_y), 0\n",
    "            n_right, n_left = n, 0\n",
    "\n",
    "            for i2 in range(n-1):\n",
    "                s_left += sorted_y[i2]\n",
    "                s_right -= sorted_y[i2]\n",
    "                n_left += 1\n",
    "                n_right -= 1\n",
    "                \n",
    "                if sorted_x[i2]<sorted_x[i2+1]: # for a different value\n",
    "                    # try to maximise this value: it is directly correlated \n",
    "                    # to the possible split information gain\n",
    "                    new_costDescent = (s_left**2)/n_left + (s_right**2)/n_right\n",
    "                    if new_costDescent > best_costDescent:\n",
    "                        best_costDescent = new_costDescent\n",
    "                        best_feature = i1\n",
    "                        best_cut = (sorted_x[i2]+sorted_x[i2+1])/2\n",
    "                        \n",
    "        # update the importance for the selected feature\n",
    "        feature_importance = np.var(y) - (np.sum(np.square(y))-best_costDescent)/n\n",
    "        self.feature_importances[best_feature] += feature_importance\n",
    "\n",
    "        left_idxs = X[:,best_feature] < best_cut\n",
    "        \n",
    "        return self.Node(feature=best_feature, feature_importance=feature_importance,\n",
    "                         cut=best_cut, average=np.mean(y),\n",
    "                         left = self.learn(X[left_idxs], y[left_idxs], depth-1, minElems_perLeaf),\n",
    "                         right = self.learn(X[~left_idxs], y[~left_idxs], depth-1, minElems_perLeaf))\n",
    "    \n",
    "    def prune(self, X, y):\n",
    "        # for statistics purposes check errors on different dataset portions and average them\n",
    "        # in order to decide whether to prune or not (same code of k-fold cross-validation)\n",
    "        n,_ = X.shape\n",
    "        folds = 5\n",
    "        elemPerFold, remainder = np.divmod(n, folds)\n",
    "        foldsIdxsList = []\n",
    "        start = 0\n",
    "        for i in range(folds): \n",
    "            end = start+elemPerFold+int(remainder>0)\n",
    "            foldsIdxsList.append(np.arange(start,end)) \n",
    "            remainder -= 1\n",
    "            start = end\n",
    "        \n",
    "        # recursive: start checking if the root receive a possible positive pruning from its sons\n",
    "        self.test_pruning(self.root, X, y, foldsIdxsList)\n",
    "        return self\n",
    "    \n",
    "    def test_pruning(self, node, X, y, foldIdxs):\n",
    "        if node.isLeaf: # leaf: start point of new possible pruning\n",
    "            return True\n",
    "        \n",
    "        # check sons response: if one of them is negative to be pruned it means that it performs an important\n",
    "        # predictive split\n",
    "        if not self.test_pruning(node.left, X, y, foldIdxs) or not self.test_pruning(node.right, X, y, foldIdxs):\n",
    "            return False\n",
    "        \n",
    "        # else proceed with testing the goodness of the current node split\n",
    "        folds = len(foldIdxs)\n",
    "        results = np.empty(folds)\n",
    "\n",
    "        # not pruned errors on different folds\n",
    "        for i, idxs in enumerate(foldIdxs):\n",
    "            pred = self.predict(X[idxs])\n",
    "            results[i] = Regression_evaluationMetric(true=y[idxs], predicted=pred).rootMeanSquareError()\n",
    "\n",
    "        not_prunErr = np.mean(results)\n",
    "\n",
    "        # pruned errors on different folds\n",
    "        node.isLeaf = True\n",
    "        for i, idxs in enumerate(foldIdxs):\n",
    "            pred = self.predict(X[idxs])\n",
    "            results[i] = Regression_evaluationMetric(true=y[idxs], predicted=pred).rootMeanSquareError()\n",
    "\n",
    "        # if pruning improves the prediction RMSE then keep current node as leaf\n",
    "        node.isLeaf = np.mean(results) <= not_prunErr\n",
    "        \n",
    "        if node.isLeaf:\n",
    "            # lower feature importance computed during training phase\n",
    "            self.feature_importances[node.feature] -= node.feature_importance \n",
    "            node.left = None\n",
    "            node.right = None\n",
    "            \n",
    "        return node.isLeaf\n",
    "            \n",
    "    def predict(self, X):\n",
    "        if self.root is None:\n",
    "            raise Exception(\"Tree not initialised! need to first fit the model\")\n",
    "\n",
    "        n,_ = X.shape\n",
    "        y = np.empty(n)\n",
    "        \n",
    "        for i in range(n):\n",
    "            current = self.root\n",
    "            while not current.isLeaf:\n",
    "                if X[i,current.feature] < current.cut:\n",
    "                    current = current.left\n",
    "                else:\n",
    "                    current = current.right\n",
    "                \n",
    "            y[i] = current.avg\n",
    "        \n",
    "        return y\n",
    "                \n",
    "    def pprint(self):\n",
    "        self.root.print_tree_indented()\n",
    "        \n",
    "    def sort_featureImportances(self, columns=None, num=0):\n",
    "        if self.feature_importances is None:\n",
    "            raise Exception(\"Need to first fit the model!\")\n",
    "            \n",
    "        d = len(self.feature_importances)\n",
    "        n_printFeat = d if not num else num\n",
    "        \n",
    "        if columns is None:\n",
    "            return sorted(self.feature_importances.items(), key=lambda kv: kv[1], reverse=True)[:n_printFeat]\n",
    "            \n",
    "        if len(columns) != d:\n",
    "            raise Exception(\"Argument list lenght differs from feature total amount\")\n",
    "            \n",
    "        return sorted(zip(map(lambda kv: round(kv[1], 4), self.feature_importances.items()), columns),\n",
    "                      reverse=True)[:n_printFeat]"
   ]
  },
  {
   "cell_type": "code",
   "execution_count": 37,
   "metadata": {
    "scrolled": true
   },
   "outputs": [
    {
     "name": "stdout",
     "output_type": "stream",
     "text": [
      "|    |    |    |    |    Leaf: -0.8391887433692835\n",
      "|    |    |    |    43 => 0.8169333144556138\n",
      "|    |    |    |    |    Leaf: -0.7842777034265971\n",
      "|    |    |    7 => -0.6545067888107313\n",
      "|    |    |    |    Leaf: -0.5428415837220868\n",
      "|    |    68 => -0.9644421975058982\n",
      "|    |    |    |    |    Leaf: -0.7899866199903195\n",
      "|    |    |    |    5 => -0.9843438058211621\n",
      "|    |    |    |    |    Leaf: -0.8528069566668656\n",
      "|    |    |    9 => -0.60516532968108\n",
      "|    |    |    |    |    Leaf: -0.8742866649618859\n",
      "|    |    |    |    86 => -0.5828144458281445\n",
      "|    |    |    |    |    Leaf: -0.8072478341315437\n",
      "|    43 => 0.6937561942517344\n",
      "|    |    |    |    Leaf: 0.009841510026489697\n",
      "|    |    |    38 => 0.4144846796657382\n",
      "|    |    |    |    |    Leaf: 0.0023801085584289616\n",
      "|    |    |    |    26 => -0.12166959449568149\n",
      "|    |    |    |    |    Leaf: -0.6594443788835457\n",
      "|    |    68 => -0.930232558139535\n",
      "|    |    |    |    |    Leaf: -0.6775462455943263\n",
      "|    |    |    |    41 => -0.07680412371134027\n",
      "|    |    |    |    |    Leaf: -0.7511546881965063\n",
      "|    |    |    66 => -0.9213836477987423\n",
      "|    |    |    |    Leaf: 0.06086997096986013\n",
      "44 => 0.3778944534194939\n",
      "|    |    |    |    Leaf: 0.31412433521201555\n",
      "|    |    |    8 => -0.422177009155646\n",
      "|    |    |    |    |    Leaf: -0.6013978633290509\n",
      "|    |    |    |    80 => -0.511551484804402\n",
      "|    |    |    |    |    Leaf: -0.45453422345764183\n",
      "|    |    92 => -0.9993299511821576\n",
      "|    |    |    |    |    Leaf: -0.5214710178176696\n",
      "|    |    |    |    71 => -0.9840562258296088\n",
      "|    |    |    |    |    Leaf: -0.6173200262100113\n",
      "|    |    |    76 => -0.4791666666666667\n",
      "|    |    |    |    |    Leaf: -0.543625386392682\n",
      "|    |    |    |    38 => 0.09526462395543178\n",
      "|    |    |    |    |    Leaf: -0.7164122316915511\n",
      "|    44 => 0.19614970382337094\n",
      "|    |    |    |    |    Leaf: -0.4302505022043416\n",
      "|    |    |    |    72 => 0.6968958231756868\n",
      "|    |    |    |    |    Leaf: -0.28684347708609886\n",
      "|    |    |    29 => -0.8144495874421414\n",
      "|    |    |    |    Leaf: 0.7775503953824341\n",
      "|    |    41 => 0.06443298969072175\n",
      "|    |    |    |    |    Leaf: -0.48181171385599286\n",
      "|    |    |    |    31 => -0.8237266279819471\n",
      "|    |    |    |    |    Leaf: -0.6855783470655835\n",
      "|    |    |    27 => -0.9963059131384142\n",
      "|    |    |    |    |    Leaf: -0.07111847326423726\n",
      "|    |    |    |    1 => -0.06250000000000011\n",
      "|    |    |    |    |    Leaf: -0.6883614654239886\n"
     ]
    }
   ],
   "source": [
    "ndt = NumericalDecisionTree_regressor()\n",
    "ndt.fit(trainVal_data, trainVal_values, depth=5, minElems_perLeaf=10)\n",
    "ndt.pprint()"
   ]
  },
  {
   "cell_type": "code",
   "execution_count": 38,
   "metadata": {
    "scrolled": true
   },
   "outputs": [
    {
     "name": "stdout",
     "output_type": "stream",
     "text": [
      "Residual variance: 0.07092205571062105\n",
      "Root Mean Square Error: 0.1711046406737843\n",
      "R^2 score: 0.3761725835383901\n"
     ]
    }
   ],
   "source": [
    "pred = ndt.predict(test_data)\n",
    "rem = Regression_evaluationMetric(test_values, pred)\n",
    "\n",
    "print(\"Residual variance: {}\".format(np.var(test_values-pred)))\n",
    "\n",
    "print(\"Root Mean Square Error: {}\".format(rem.rootMeanSquareError()))\n",
    "print(\"R^2 score: {}\".format(rem.rSquared()))"
   ]
  },
  {
   "cell_type": "code",
   "execution_count": 39,
   "metadata": {
    "scrolled": true
   },
   "outputs": [
    {
     "data": {
      "text/plain": [
       "[(44, 0.018661574641044627),\n",
       " (1, 0.01727840867892636),\n",
       " (8, 0.00926406071490303),\n",
       " (29, 0.007523932960591881),\n",
       " (41, 0.0067555800027656356),\n",
       " (38, 0.00540857626468289),\n",
       " (80, 0.005006079467972144),\n",
       " (72, 0.004692584034829257),\n",
       " (31, 0.004163072583250865),\n",
       " (43, 0.003982676899913509),\n",
       " (27, 0.0031015069325231355),\n",
       " (92, 0.0029247760277931398),\n",
       " (66, 0.0022132262749271214),\n",
       " (68, 0.002132951916067072),\n",
       " (26, 0.001840352328045504),\n",
       " (76, 0.001677145123099015),\n",
       " (7, 0.0016543042663325642),\n",
       " (71, 0.0014230693108507435),\n",
       " (5, 0.0008769766000342764),\n",
       " (86, 0.0007294769283550384),\n",
       " (9, 0.0006145184847090686),\n",
       " (0, 0),\n",
       " (2, 0),\n",
       " (3, 0),\n",
       " (4, 0),\n",
       " (6, 0),\n",
       " (10, 0),\n",
       " (11, 0),\n",
       " (12, 0),\n",
       " (13, 0),\n",
       " (14, 0),\n",
       " (15, 0),\n",
       " (16, 0),\n",
       " (17, 0),\n",
       " (18, 0),\n",
       " (19, 0),\n",
       " (20, 0),\n",
       " (21, 0),\n",
       " (22, 0),\n",
       " (23, 0),\n",
       " (24, 0),\n",
       " (25, 0),\n",
       " (28, 0),\n",
       " (30, 0),\n",
       " (32, 0),\n",
       " (33, 0),\n",
       " (34, 0),\n",
       " (35, 0),\n",
       " (36, 0),\n",
       " (37, 0),\n",
       " (39, 0),\n",
       " (40, 0),\n",
       " (42, 0),\n",
       " (45, 0),\n",
       " (46, 0),\n",
       " (47, 0),\n",
       " (48, 0),\n",
       " (49, 0),\n",
       " (50, 0),\n",
       " (51, 0),\n",
       " (52, 0),\n",
       " (53, 0),\n",
       " (54, 0),\n",
       " (55, 0),\n",
       " (56, 0),\n",
       " (57, 0),\n",
       " (58, 0),\n",
       " (59, 0),\n",
       " (60, 0),\n",
       " (61, 0),\n",
       " (62, 0),\n",
       " (63, 0),\n",
       " (64, 0),\n",
       " (65, 0),\n",
       " (67, 0),\n",
       " (69, 0),\n",
       " (70, 0),\n",
       " (73, 0),\n",
       " (74, 0),\n",
       " (75, 0),\n",
       " (77, 0),\n",
       " (78, 0),\n",
       " (79, 0),\n",
       " (81, 0),\n",
       " (82, 0),\n",
       " (83, 0),\n",
       " (84, 0),\n",
       " (85, 0),\n",
       " (87, 0),\n",
       " (88, 0),\n",
       " (89, 0),\n",
       " (90, 0),\n",
       " (91, 0),\n",
       " (93, 0),\n",
       " (94, 0),\n",
       " (95, 0),\n",
       " (96, 0),\n",
       " (97, 0),\n",
       " (98, 0),\n",
       " (99, 0),\n",
       " (100, 0),\n",
       " (101, 0)]"
      ]
     },
     "execution_count": 39,
     "metadata": {},
     "output_type": "execute_result"
    }
   ],
   "source": [
    "ndt.sort_featureImportances()"
   ]
  },
  {
   "cell_type": "code",
   "execution_count": 40,
   "metadata": {
    "scrolled": true
   },
   "outputs": [
    {
     "name": "stdout",
     "output_type": "stream",
     "text": [
      "|    |    |    |    Leaf: -0.5332698588340468\n",
      "|    |    |    4 => 0.21895140219473952\n",
      "|    |    |    |    |    Leaf: -0.8479628351992392\n",
      "|    |    |    |    3 => 0.967715317173801\n",
      "|    |    |    |    |    |    |    |    |    Leaf: -0.8419724447594715\n",
      "|    |    |    |    |    |    |    |    44 => 0.7425955842757135\n",
      "|    |    |    |    |    |    |    |    |    Leaf: -0.7719573598226945\n",
      "|    |    |    |    |    |    |    88 => 0.1732673267326731\n",
      "|    |    |    |    |    |    |    |    |    |    Leaf: -0.7920975914871586\n",
      "|    |    |    |    |    |    |    |    |    20 => -0.5512959614225438\n",
      "|    |    |    |    |    |    |    |    |    |    |    Leaf: -0.7567699404917311\n",
      "|    |    |    |    |    |    |    |    |    |    47 => 0.034933123524783616\n",
      "|    |    |    |    |    |    |    |    |    |    |    Leaf: -0.724882749670023\n",
      "|    |    |    |    |    |    |    |    77 => -0.9656616415410385\n",
      "|    |    |    |    |    |    |    |    |    Leaf: -0.6883218401531387\n",
      "|    |    |    |    |    |    45 => 0.7688937568455639\n",
      "|    |    |    |    |    |    |    Leaf: -0.6721881580680446\n",
      "|    |    |    |    |    47 => -0.2407553107789142\n",
      "|    |    |    |    |    |    Leaf: -0.8536195586386732\n",
      "|    |    27 => -0.998715445557709\n",
      "|    |    |    |    Leaf: -0.4670949158555521\n",
      "|    |    |    2 => -0.637633185062584\n",
      "|    |    |    |    |    |    |    Leaf: -0.5830164854705487\n",
      "|    |    |    |    |    |    95 => 0.830061441630451\n",
      "|    |    |    |    |    |    |    |    |    |    |    Leaf: -0.8399092149246299\n",
      "|    |    |    |    |    |    |    |    |    |    96 => 0.7033799533799532\n",
      "|    |    |    |    |    |    |    |    |    |    |    Leaf: -0.7600110284165038\n",
      "|    |    |    |    |    |    |    |    |    88 => -0.18811881188118829\n",
      "|    |    |    |    |    |    |    |    |    |    Leaf: -0.7418540442032857\n",
      "|    |    |    |    |    |    |    |    73 => 0.4243375612206456\n",
      "|    |    |    |    |    |    |    |    |    Leaf: -0.8954909034080325\n",
      "|    |    |    |    |    |    |    65 => -0.18118466898954722\n",
      "|    |    |    |    |    |    |    |    Leaf: -0.7037155542519952\n",
      "|    |    |    |    |    5 => -0.9844488809498791\n",
      "|    |    |    |    |    |    |    |    Leaf: -0.928826594506703\n",
      "|    |    |    |    |    |    |    27 => -0.9990490397973595\n",
      "|    |    |    |    |    |    |    |    Leaf: -0.8708141178544435\n",
      "|    |    |    |    |    |    39 => -0.6318562132011156\n",
      "|    |    |    |    |    |    |    Leaf: -0.8038391702838613\n",
      "|    |    |    |    96 => 0.6742424242424243\n",
      "|    |    |    |    |    |    |    |    |    Leaf: -0.7396241968938972\n",
      "|    |    |    |    |    |    |    |    71 => -0.9940427946182526\n",
      "|    |    |    |    |    |    |    |    |    |    |    Leaf: -0.9318534220495005\n",
      "|    |    |    |    |    |    |    |    |    |    73 => 0.9726233831470552\n",
      "|    |    |    |    |    |    |    |    |    |    |    |    |    Leaf: -0.8853489079164254\n",
      "|    |    |    |    |    |    |    |    |    |    |    |    0 => -0.9958541189206132\n",
      "|    |    |    |    |    |    |    |    |    |    |    |    |    |    Leaf: -0.8744749188700354\n",
      "|    |    |    |    |    |    |    |    |    |    |    |    |    96 => 0.5869755244755244\n",
      "|    |    |    |    |    |    |    |    |    |    |    |    |    |    |    Leaf: -0.8532004997968742\n",
      "|    |    |    |    |    |    |    |    |    |    |    |    |    |    97 => 0.4879976144326823\n",
      "|    |    |    |    |    |    |    |    |    |    |    |    |    |    |    Leaf: -0.8648561003968576\n",
      "|    |    |    |    |    |    |    |    |    |    |    29 => -0.9140672167438115\n",
      "|    |    |    |    |    |    |    |    |    |    |    |    Leaf: -0.8235586678058006\n",
      "|    |    |    |    |    |    |    |    |    44 => 0.7160743134087236\n",
      "|    |    |    |    |    |    |    |    |    |    Leaf: -0.7842311419817893\n",
      "|    |    |    |    |    |    |    93 => -0.7136688257764492\n",
      "|    |    |    |    |    |    |    |    |    |    Leaf: -0.9476888406472819\n",
      "|    |    |    |    |    |    |    |    |    6 => -0.6019670814933762\n",
      "|    |    |    |    |    |    |    |    |    |    |    Leaf: -0.8603759512379565\n",
      "|    |    |    |    |    |    |    |    |    |    73 => 0.7611452969986188\n",
      "|    |    |    |    |    |    |    |    |    |    |    |    |    |    Leaf: -0.8935097386201099\n",
      "|    |    |    |    |    |    |    |    |    |    |    |    |    47 => 0.14240755310778908\n",
      "|    |    |    |    |    |    |    |    |    |    |    |    |    |    |    Leaf: -0.9213488368131357\n",
      "|    |    |    |    |    |    |    |    |    |    |    |    |    |    30 => -0.6813019390581717\n",
      "|    |    |    |    |    |    |    |    |    |    |    |    |    |    |    Leaf: -0.9092390842298351\n",
      "|    |    |    |    |    |    |    |    |    |    |    |    1 => -0.42663043478260876\n",
      "|    |    |    |    |    |    |    |    |    |    |    |    |    Leaf: -0.8673271866020664\n",
      "|    |    |    |    |    |    |    |    |    |    |    14 => -0.8973966309341501\n",
      "|    |    |    |    |    |    |    |    |    |    |    |    Leaf: -0.8524636364074025\n",
      "|    |    |    |    |    |    |    |    66 => -0.6352201257861636\n",
      "|    |    |    |    |    |    |    |    |    |    Leaf: -0.8941920092493528\n",
      "|    |    |    |    |    |    |    |    |    93 => -0.7756186679953496\n",
      "|    |    |    |    |    |    |    |    |    |    Leaf: -0.8359036473066153\n",
      "|    |    |    |    |    |    79 => -0.5505131937600257\n",
      "|    |    |    |    |    |    |    |    Leaf: -0.9173787179706528\n",
      "|    |    |    |    |    |    |    96 => 0.5852272727272726\n",
      "|    |    |    |    |    |    |    |    |    Leaf: -0.6803618268657114\n",
      "|    |    |    |    |    |    |    |    79 => -0.5599976907311722\n",
      "|    |    |    |    |    |    |    |    |    |    |    Leaf: -0.8763512145351254\n",
      "|    |    |    |    |    |    |    |    |    |    1 => -0.36684782608695665\n",
      "|    |    |    |    |    |    |    |    |    |    |    Leaf: -0.8369895360893017\n",
      "|    |    |    |    |    |    |    |    |    45 => 0.9014238773274917\n",
      "|    |    |    |    |    |    |    |    |    |    |    Leaf: -0.8688339344400511\n",
      "|    |    |    |    |    |    |    |    |    |    50 => -0.8628884826325411\n",
      "|    |    |    |    |    |    |    |    |    |    |    |    Leaf: -0.8406441958051282\n",
      "|    |    |    |    |    |    |    |    |    |    |    74 => -0.8824266733517172\n",
      "|    |    |    |    |    |    |    |    |    |    |    |    |    Leaf: -0.8326887746051638\n",
      "|    |    |    |    |    |    |    |    |    |    |    |    91 => -0.9998717016636018\n",
      "|    |    |    |    |    |    |    |    |    |    |    |    |    |    Leaf: -0.8051811126172946\n",
      "|    |    |    |    |    |    |    |    |    |    |    |    |    25 => -0.8098540145985401\n",
      "|    |    |    |    |    |    |    |    |    |    |    |    |    |    |    Leaf: -0.7663387582921435\n",
      "|    |    |    |    |    |    |    |    |    |    |    |    |    |    9 => -0.8886714928585404\n",
      "|    |    |    |    |    |    |    |    |    |    |    |    |    |    |    Leaf: -0.7946792519489523\n",
      "|    |    |    |    |    6 => -0.7938578883982337\n",
      "|    |    |    |    |    |    Leaf: -0.7217441266645854\n",
      "|    43 => 0.6937561942517344\n",
      "|    |    |    |    Leaf: 0.009841510026489697\n",
      "|    |    |    38 => 0.4144846796657382\n",
      "|    |    |    |    |    Leaf: 0.0023801085584289616\n",
      "|    |    |    |    26 => -0.12166959449568149\n",
      "|    |    |    |    |    |    |    |    |    |    |    Leaf: -0.5736331966446653\n",
      "|    |    |    |    |    |    |    |    |    |    40 => 0.14244044725328153\n",
      "|    |    |    |    |    |    |    |    |    |    |    |    Leaf: -0.737724702134617\n",
      "|    |    |    |    |    |    |    |    |    |    |    18 => -0.43662306777645665\n",
      "|    |    |    |    |    |    |    |    |    |    |    |    |    Leaf: -0.6806090589294437\n",
      "|    |    |    |    |    |    |    |    |    |    |    |    43 => 0.4560385105479259\n",
      "|    |    |    |    |    |    |    |    |    |    |    |    |    Leaf: -0.6225022654915366\n",
      "|    |    |    |    |    |    |    |    |    14 => -0.8468606431852986\n",
      "|    |    |    |    |    |    |    |    |    |    Leaf: -0.5924292772239498\n",
      "|    |    |    |    |    |    |    |    72 => 0.771818625060946\n",
      "|    |    |    |    |    |    |    |    |    |    |    |    Leaf: -0.5877663086690095\n",
      "|    |    |    |    |    |    |    |    |    |    |    6 => -0.628061019670815\n",
      "|    |    |    |    |    |    |    |    |    |    |    |    Leaf: -0.6530046509698748\n",
      "|    |    |    |    |    |    |    |    |    |    62 => -0.8360365673842525\n",
      "|    |    |    |    |    |    |    |    |    |    |    Leaf: -0.48790484898513004\n",
      "|    |    |    |    |    |    |    |    |    44 => 0.3752019386106624\n",
      "|    |    |    |    |    |    |    |    |    |    Leaf: -0.47689383797411905\n",
      "|    |    |    |    |    |    |    27 => -0.9954870909138172\n",
      "|    |    |    |    |    |    |    |    |    Leaf: -0.5696596125748918\n",
      "|    |    |    |    |    |    |    |    73 => 0.5751601155343465\n",
      "|    |    |    |    |    |    |    |    |    |    |    |    Leaf: -0.7441688821637027\n",
      "|    |    |    |    |    |    |    |    |    |    |    40 => 0.2425862907146331\n",
      "|    |    |    |    |    |    |    |    |    |    |    |    |    |    Leaf: -0.5814151801326545\n",
      "|    |    |    |    |    |    |    |    |    |    |    |    |    38 => 0.03955431754874661\n",
      "|    |    |    |    |    |    |    |    |    |    |    |    |    |    Leaf: -0.6292881116410529\n",
      "|    |    |    |    |    |    |    |    |    |    |    |    40 => -0.04764219737481762\n",
      "|    |    |    |    |    |    |    |    |    |    |    |    |    Leaf: -0.6841179569012841\n",
      "|    |    |    |    |    |    |    |    |    |    75 => -0.5718263510947982\n",
      "|    |    |    |    |    |    |    |    |    |    |    Leaf: -0.7598810797478943\n",
      "|    |    |    |    |    |    |    |    |    38 => -0.0869080779944289\n",
      "|    |    |    |    |    |    |    |    |    |    |    |    |    Leaf: -0.6612508073847326\n",
      "|    |    |    |    |    |    |    |    |    |    |    |    22 => -0.8972421270978691\n",
      "|    |    |    |    |    |    |    |    |    |    |    |    |    Leaf: -0.7114403341558354\n",
      "|    |    |    |    |    |    |    |    |    |    |    34 => -0.7175906627761568\n",
      "|    |    |    |    |    |    |    |    |    |    |    |    Leaf: -0.7394382914175737\n",
      "|    |    |    |    |    |    |    |    |    |    71 => -0.9943380496954821\n",
      "|    |    |    |    |    |    |    |    |    |    |    |    Leaf: -0.6781776226837269\n",
      "|    |    |    |    |    |    |    |    |    |    |    14 => -0.49923430321592654\n",
      "|    |    |    |    |    |    |    |    |    |    |    |    |    |    Leaf: -0.744231309159167\n",
      "|    |    |    |    |    |    |    |    |    |    |    |    |    61 => -0.9564309939994782\n",
      "|    |    |    |    |    |    |    |    |    |    |    |    |    |    Leaf: -0.7927457609292607\n",
      "|    |    |    |    |    |    |    |    |    |    |    |    76 => 0.27083333333333326\n",
      "|    |    |    |    |    |    |    |    |    |    |    |    |    Leaf: -0.8073362194708847\n",
      "|    |    |    |    |    |    66 => -0.5251572327044027\n",
      "|    |    |    |    |    |    |    |    |    |    Leaf: -0.603875213938107\n",
      "|    |    |    |    |    |    |    |    |    24 => -0.7886309047237791\n",
      "|    |    |    |    |    |    |    |    |    |    Leaf: -0.43625860414613643\n",
      "|    |    |    |    |    |    |    |    42 => -0.34042553191489355\n",
      "|    |    |    |    |    |    |    |    |    |    |    Leaf: -0.7238874094220006\n",
      "|    |    |    |    |    |    |    |    |    |    62 => -0.7631966971394868\n",
      "|    |    |    |    |    |    |    |    |    |    |    Leaf: -0.5784773304566126\n",
      "|    |    |    |    |    |    |    |    |    51 => -0.9982615675849809\n",
      "|    |    |    |    |    |    |    |    |    |    Leaf: -0.7581024112039034\n",
      "|    |    |    |    |    |    |    97 => 0.4754733860146113\n",
      "|    |    |    |    |    |    |    |    |    Leaf: -0.6071178202143795\n",
      "|    |    |    |    |    |    |    |    59 => -0.6990499540300337\n",
      "|    |    |    |    |    |    |    |    |    Leaf: -0.4237498689958919\n",
      "|    |    |    |    |    40 => -0.3087019931939718\n",
      "|    |    |    |    |    |    |    Leaf: -0.680938652303802\n",
      "|    |    |    |    |    |    49 => -0.9988740553153498\n",
      "|    |    |    |    |    |    |    |    Leaf: -0.856861988567501\n",
      "|    |    |    |    |    |    |    69 => 0.02980060684872121\n",
      "|    |    |    |    |    |    |    |    Leaf: -0.7219633618079789\n",
      "|    |    68 => -0.928715874620829\n",
      "|    |    |    |    |    |    |    |    Leaf: -0.6981430190827158\n",
      "|    |    |    |    |    |    |    65 => -0.2195121951219513\n",
      "|    |    |    |    |    |    |    |    Leaf: -0.8001195529867375\n",
      "|    |    |    |    |    |    42 => -0.37446808510638296\n",
      "|    |    |    |    |    |    |    |    Leaf: -0.5529717656983657\n",
      "|    |    |    |    |    |    |    65 => -0.29616724738675976\n",
      "|    |    |    |    |    |    |    |    |    |    Leaf: -0.5943978014270282\n",
      "|    |    |    |    |    |    |    |    |    49 => -0.9990579217032473\n",
      "|    |    |    |    |    |    |    |    |    |    Leaf: -0.6788224900199249\n",
      "|    |    |    |    |    |    |    |    53 => -0.6154149159663865\n",
      "|    |    |    |    |    |    |    |    |    |    Leaf: -0.771190169081401\n",
      "|    |    |    |    |    |    |    |    |    95 => 0.19076876966881462\n",
      "|    |    |    |    |    |    |    |    |    |    Leaf: -0.695470998190199\n",
      "|    |    |    |    |    41 => -0.07680412371134027\n",
      "|    |    |    |    |    |    |    |    |    Leaf: -0.4072711261020546\n",
      "|    |    |    |    |    |    |    |    74 => -0.6475307094509901\n",
      "|    |    |    |    |    |    |    |    |    |    |    |    Leaf: -0.6684806646577518\n",
      "|    |    |    |    |    |    |    |    |    |    |    41 => -0.14536082474226797\n",
      "|    |    |    |    |    |    |    |    |    |    |    |    |    Leaf: -0.6686675576797663\n",
      "|    |    |    |    |    |    |    |    |    |    |    |    23 => -0.93491875\n",
      "|    |    |    |    |    |    |    |    |    |    |    |    |    |    |    |    Leaf: -0.7739856023244851\n",
      "|    |    |    |    |    |    |    |    |    |    |    |    |    |    |    88 => 0.10396039603960361\n",
      "|    |    |    |    |    |    |    |    |    |    |    |    |    |    |    |    Leaf: -0.8126435721700241\n",
      "|    |    |    |    |    |    |    |    |    |    |    |    |    |    2 => -0.9827247336298748\n",
      "|    |    |    |    |    |    |    |    |    |    |    |    |    |    |    Leaf: -0.7412354270659857\n",
      "|    |    |    |    |    |    |    |    |    |    |    |    |    19 => -0.7024369754435638\n",
      "|    |    |    |    |    |    |    |    |    |    |    |    |    |    Leaf: -0.8549838530107366\n",
      "|    |    |    |    |    |    |    |    |    |    27 => -0.9984641667797902\n",
      "|    |    |    |    |    |    |    |    |    |    |    Leaf: -0.8819843397473193\n",
      "|    |    |    |    |    |    |    |    |    17 => -0.7900985663082438\n",
      "|    |    |    |    |    |    |    |    |    |    |    Leaf: -0.7809928315292726\n",
      "|    |    |    |    |    |    |    |    |    |    43 => 0.6568030581905706\n",
      "|    |    |    |    |    |    |    |    |    |    |    |    Leaf: -0.6197071655451234\n",
      "|    |    |    |    |    |    |    |    |    |    |    100 => -0.9245352475612001\n",
      "|    |    |    |    |    |    |    |    |    |    |    |    |    |    Leaf: -0.6778779848619942\n",
      "|    |    |    |    |    |    |    |    |    |    |    |    |    15 => 0.013216388321518613\n",
      "|    |    |    |    |    |    |    |    |    |    |    |    |    |    Leaf: -0.7600897234637523\n",
      "|    |    |    |    |    |    |    |    |    |    |    |    58 => -0.9767166535122336\n",
      "|    |    |    |    |    |    |    |    |    |    |    |    |    Leaf: -0.8116496074320714\n",
      "|    |    |    |    |    |    |    24 => -0.833372580417275\n",
      "|    |    |    |    |    |    |    |    |    Leaf: -0.6865403324152861\n",
      "|    |    |    |    |    |    |    |    22 => -0.939614369224967\n",
      "|    |    |    |    |    |    |    |    |    Leaf: -0.6044286054459935\n",
      "|    |    |    |    |    |    49 => -0.9991602803109427\n",
      "|    |    |    |    |    |    |    |    |    |    |    |    Leaf: -0.826412427966257\n",
      "|    |    |    |    |    |    |    |    |    |    |    23 => -0.8985791666666667\n",
      "|    |    |    |    |    |    |    |    |    |    |    |    |    Leaf: -0.755314507996713\n",
      "|    |    |    |    |    |    |    |    |    |    |    |    14 => -0.7243491577335375\n",
      "|    |    |    |    |    |    |    |    |    |    |    |    |    |    Leaf: -0.6727117218752028\n",
      "|    |    |    |    |    |    |    |    |    |    |    |    |    58 => -0.9818468823993686\n",
      "|    |    |    |    |    |    |    |    |    |    |    |    |    |    Leaf: -0.5854963361437648\n",
      "|    |    |    |    |    |    |    |    |    |    2 => -0.9673114720182063\n",
      "|    |    |    |    |    |    |    |    |    |    |    |    |    |    Leaf: -0.7666223382094636\n",
      "|    |    |    |    |    |    |    |    |    |    |    |    |    36 => -0.40955710955710956\n",
      "|    |    |    |    |    |    |    |    |    |    |    |    |    |    Leaf: -0.8129971958228628\n",
      "|    |    |    |    |    |    |    |    |    |    |    |    76 => 0.02083333333333337\n",
      "|    |    |    |    |    |    |    |    |    |    |    |    |    |    Leaf: -0.7936183809904368\n",
      "|    |    |    |    |    |    |    |    |    |    |    |    |    30 => -0.36939058171745154\n",
      "|    |    |    |    |    |    |    |    |    |    |    |    |    |    |    |    Leaf: -0.7134717958802308\n",
      "|    |    |    |    |    |    |    |    |    |    |    |    |    |    |    69 => -0.14683571738188128\n",
      "|    |    |    |    |    |    |    |    |    |    |    |    |    |    |    |    Leaf: -0.6319060458905076\n",
      "|    |    |    |    |    |    |    |    |    |    |    |    |    |    27 => -0.9989883862992412\n",
      "|    |    |    |    |    |    |    |    |    |    |    |    |    |    |    Leaf: -0.7930941176717474\n",
      "|    |    |    |    |    |    |    |    |    |    |    47 => 0.20157356412273808\n",
      "|    |    |    |    |    |    |    |    |    |    |    |    |    Leaf: -0.8732791244814921\n",
      "|    |    |    |    |    |    |    |    |    |    |    |    62 => -0.8731937481568859\n",
      "|    |    |    |    |    |    |    |    |    |    |    |    |    Leaf: -0.7680070007114033\n",
      "|    |    |    |    |    |    |    |    |    14 => -0.8315467075038285\n",
      "|    |    |    |    |    |    |    |    |    |    |    |    Leaf: -0.8105431447808231\n",
      "|    |    |    |    |    |    |    |    |    |    |    8 => -0.7760257714479484\n",
      "|    |    |    |    |    |    |    |    |    |    |    |    Leaf: -0.7503664014947774\n",
      "|    |    |    |    |    |    |    |    |    |    30 => -0.5342105263157895\n",
      "|    |    |    |    |    |    |    |    |    |    |    |    Leaf: -0.8741408815400676\n",
      "|    |    |    |    |    |    |    |    |    |    |    29 => -0.8379955725498088\n",
      "|    |    |    |    |    |    |    |    |    |    |    |    Leaf: -0.8206302862240709\n",
      "|    |    |    |    |    |    |    |    35 => -0.6033716191181919\n",
      "|    |    |    |    |    |    |    |    |    |    |    Leaf: -0.8533859053281916\n",
      "|    |    |    |    |    |    |    |    |    |    6 => -0.6200321156162184\n",
      "|    |    |    |    |    |    |    |    |    |    |    Leaf: -0.7896990061251993\n",
      "|    |    |    |    |    |    |    |    |    47 => -0.04091266719118808\n",
      "|    |    |    |    |    |    |    |    |    |    Leaf: -0.925132679849661\n",
      "|    |    |    |    |    |    |    75 => -0.7725604353879256\n",
      "|    |    |    |    |    |    |    |    Leaf: -0.5792896114760709\n",
      "|    |    |    |    49 => -0.9998900592732161\n",
      "|    |    |    |    |    Leaf: -0.2162884304948678\n",
      "|    |    |    66 => -0.9213836477987423\n",
      "|    |    |    |    Leaf: 0.06086997096986013\n",
      "44 => 0.34773828756058156\n",
      "|    |    |    |    |    Leaf: -0.23444228542267753\n",
      "|    |    |    |    14 => -0.6891271056661562\n",
      "|    |    |    |    |    |    |    |    Leaf: -0.49194070133766765\n",
      "|    |    |    |    |    |    |    76 => 5.551115123125783e-17\n",
      "|    |    |    |    |    |    |    |    Leaf: -0.3748726528970703\n",
      "|    |    |    |    |    |    15 => -0.34578877808482517\n",
      "|    |    |    |    |    |    |    Leaf: -0.6133184608952275\n",
      "|    |    |    |    |    99 => -0.907066727875911\n",
      "|    |    |    |    |    |    Leaf: -0.34030071506949044\n",
      "|    |    |    92 => -0.9994256724418493\n",
      "|    |    |    |    |    |    |    |    Leaf: -0.6693848861810386\n",
      "|    |    |    |    |    |    |    66 => -0.30503144654088066\n",
      "|    |    |    |    |    |    |    |    |    Leaf: -0.4640379681691804\n",
      "|    |    |    |    |    |    |    |    74 => -0.9117573326648283\n",
      "|    |    |    |    |    |    |    |    |    Leaf: -0.5556913739488656\n",
      "|    |    |    |    |    |    96 => 0.34440559440559415\n",
      "|    |    |    |    |    |    |    Leaf: -0.2872766711711094\n",
      "|    |    |    |    |    38 => 0.10194986072423384\n",
      "|    |    |    |    |    |    |    Leaf: -0.706533762767577\n",
      "|    |    |    |    |    |    30 => -0.07880886426592804\n",
      "|    |    |    |    |    |    |    |    |    Leaf: -0.5130959933031705\n",
      "|    |    |    |    |    |    |    |    36 => -0.32214452214452227\n",
      "|    |    |    |    |    |    |    |    |    Leaf: -0.5825339212686604\n",
      "|    |    |    |    |    |    |    30 => -0.3096952908587258\n",
      "|    |    |    |    |    |    |    |    Leaf: -0.6352570529411077\n",
      "|    |    |    |    59 => -0.9791602819491265\n",
      "|    |    |    |    |    |    |    Leaf: -0.573002525277775\n",
      "|    |    |    |    |    |    44 => 0.2695207323640282\n",
      "|    |    |    |    |    |    |    Leaf: -0.668190943440666\n",
      "|    |    |    |    |    98 => -0.9968057384628317\n",
      "|    |    |    |    |    |    Leaf: -0.7702709492079328\n",
      "|    |    46 => 0.2231008555872439\n",
      "|    |    |    |    |    Leaf: -0.5258050009560676\n",
      "|    |    |    |    99 => -0.5299288329462528\n",
      "|    |    |    |    |    |    Leaf: -0.24865125947256916\n",
      "|    |    |    |    |    25 => -0.8855109489051095\n",
      "|    |    |    |    |    |    Leaf: -0.052267509833177586\n",
      "|    |    |    69 => 0.29908972691807534\n",
      "|    |    |    |    |    |    |    Leaf: -0.4410824994435797\n",
      "|    |    |    |    |    |    71 => -0.9881666396498623\n",
      "|    |    |    |    |    |    |    Leaf: -0.6562615149370605\n",
      "|    |    |    |    |    99 => -0.8112071714318666\n",
      "|    |    |    |    |    |    |    |    Leaf: -0.08045818663650699\n",
      "|    |    |    |    |    |    |    48 => 0.4164909320961616\n",
      "|    |    |    |    |    |    |    |    |    |    |    |    Leaf: -0.1786602239185788\n",
      "|    |    |    |    |    |    |    |    |    |    |    61 => -0.9668666840594834\n",
      "|    |    |    |    |    |    |    |    |    |    |    |    |    Leaf: -0.2153429789389834\n",
      "|    |    |    |    |    |    |    |    |    |    |    |    76 => 0.0625\n",
      "|    |    |    |    |    |    |    |    |    |    |    |    |    Leaf: -0.33148094450351195\n",
      "|    |    |    |    |    |    |    |    |    |    60 => 0.9327803511795755\n",
      "|    |    |    |    |    |    |    |    |    |    |    |    |    Leaf: -0.3156723130825979\n",
      "|    |    |    |    |    |    |    |    |    |    |    |    72 => 0.6193726637412644\n",
      "|    |    |    |    |    |    |    |    |    |    |    |    |    Leaf: -0.4602360407021894\n",
      "|    |    |    |    |    |    |    |    |    |    |    98 => -0.986830676118692\n",
      "|    |    |    |    |    |    |    |    |    |    |    |    |    |    Leaf: -0.5147765227306478\n",
      "|    |    |    |    |    |    |    |    |    |    |    |    |    64 => -0.28231292517006795\n",
      "|    |    |    |    |    |    |    |    |    |    |    |    |    |    Leaf: -0.4525130277997462\n",
      "|    |    |    |    |    |    |    |    |    |    |    |    94 => 0.13103368445421926\n",
      "|    |    |    |    |    |    |    |    |    |    |    |    |    Leaf: -0.3016064529198084\n",
      "|    |    |    |    |    |    |    |    |    28 => -0.5256276150627616\n",
      "|    |    |    |    |    |    |    |    |    |    Leaf: -0.057257405389110894\n",
      "|    |    |    |    |    |    |    |    69 => -0.0538578240138709\n",
      "|    |    |    |    |    |    |    |    |    |    Leaf: -0.5491746278279759\n",
      "|    |    |    |    |    |    |    |    |    43 => -0.14752937845108294\n",
      "|    |    |    |    |    |    |    |    |    |    Leaf: -0.3418314726120867\n",
      "|    |    |    |    |    |    46 => -0.35675395385014264\n",
      "|    |    |    |    |    |    |    Leaf: -0.033831463724175524\n",
      "|    |    |    |    68 => -0.9123693966970003\n",
      "|    |    |    |    |    |    Leaf: -0.6932302261566042\n",
      "|    |    |    |    |    26 => -0.5557568438003221\n",
      "|    |    |    |    |    |    |    Leaf: -0.5871150469744625\n",
      "|    |    |    |    |    |    40 => 0.2664073894020419\n",
      "|    |    |    |    |    |    |    |    Leaf: -0.29875195210008376\n",
      "|    |    |    |    |    |    |    8 => -0.5506951508986097\n",
      "|    |    |    |    |    |    |    |    |    Leaf: -0.5411146749166234\n",
      "|    |    |    |    |    |    |    |    88 => 0.29702970297029685\n",
      "|    |    |    |    |    |    |    |    |    Leaf: -0.44930178050784775\n",
      "|    40 => 0.09042294603791945\n",
      "|    |    |    |    |    |    Leaf: -0.2670250716865589\n",
      "|    |    |    |    |    46 => 0.5600207415089448\n",
      "|    |    |    |    |    |    |    |    |    Leaf: -0.4735565198939227\n",
      "|    |    |    |    |    |    |    |    71 => -0.9541544126160758\n",
      "|    |    |    |    |    |    |    |    |    |    |    Leaf: -0.6340024819492078\n",
      "|    |    |    |    |    |    |    |    |    |    18 => -0.37693222354340067\n",
      "|    |    |    |    |    |    |    |    |    |    |    Leaf: -0.5629961127556392\n",
      "|    |    |    |    |    |    |    |    |    55 => -0.34215909090909086\n",
      "|    |    |    |    |    |    |    |    |    |    Leaf: -0.4712637165467354\n",
      "|    |    |    |    |    |    |    92 => -0.9999042787403083\n",
      "|    |    |    |    |    |    |    |    |    |    |    |    Leaf: -0.5463062026140086\n",
      "|    |    |    |    |    |    |    |    |    |    |    57 => -0.7877571500250878\n",
      "|    |    |    |    |    |    |    |    |    |    |    |    |    Leaf: -0.6310237972588446\n",
      "|    |    |    |    |    |    |    |    |    |    |    |    34 => -0.2115464776990414\n",
      "|    |    |    |    |    |    |    |    |    |    |    |    |    Leaf: -0.6755928699694884\n",
      "|    |    |    |    |    |    |    |    |    |    76 => -0.2708333333333333\n",
      "|    |    |    |    |    |    |    |    |    |    |    Leaf: -0.7296645517141261\n",
      "|    |    |    |    |    |    |    |    |    71 => -0.9954843341129611\n",
      "|    |    |    |    |    |    |    |    |    |    Leaf: -0.5839707014944405\n",
      "|    |    |    |    |    |    |    |    79 => -0.932573473923819\n",
      "|    |    |    |    |    |    |    |    |    Leaf: -0.5545608501583345\n",
      "|    |    |    |    |    |    26 => -0.8289232908798125\n",
      "|    |    |    |    |    |    |    Leaf: -0.8100285511803578\n",
      "|    |    |    |    18 => -0.6877526753864447\n",
      "|    |    |    |    |    Leaf: -0.3165788800269007\n",
      "|    |    |    44 => 0.10096930533117932\n",
      "|    |    |    |    |    Leaf: -0.28206662699201845\n",
      "|    |    |    |    55 => 0.23113636363636358\n",
      "|    |    |    |    |    |    Leaf: -0.3364507681932765\n",
      "|    |    |    |    |    88 => 0.5148514851485148\n",
      "|    |    |    |    |    |    |    Leaf: -0.6157360961899129\n",
      "|    |    |    |    |    |    94 => 0.7098043755064243\n",
      "|    |    |    |    |    |    |    |    Leaf: -0.48092990194359053\n",
      "|    |    |    |    |    |    |    55 => -0.12545454545454549\n",
      "|    |    |    |    |    |    |    |    Leaf: -0.5223284697942485\n",
      "|    |    98 => -0.9941438538485248\n",
      "|    |    |    |    |    |    Leaf: -0.43178003506034085\n",
      "|    |    |    |    |    32 => 0.12972250083584091\n",
      "|    |    |    |    |    |    |    |    |    |    Leaf: -0.5647265837794879\n",
      "|    |    |    |    |    |    |    |    |    76 => 0.3125\n",
      "|    |    |    |    |    |    |    |    |    |    |    |    |    |    Leaf: -0.7708146548324128\n",
      "|    |    |    |    |    |    |    |    |    |    |    |    |    22 => -0.8965774090137657\n",
      "|    |    |    |    |    |    |    |    |    |    |    |    |    |    Leaf: -0.7054575848508515\n",
      "|    |    |    |    |    |    |    |    |    |    |    |    46 => 0.3086595799844437\n",
      "|    |    |    |    |    |    |    |    |    |    |    |    |    Leaf: -0.6603344002530092\n",
      "|    |    |    |    |    |    |    |    |    |    |    13 => 0.3444990780577748\n",
      "|    |    |    |    |    |    |    |    |    |    |    |    Leaf: -0.8345989348579064\n",
      "|    |    |    |    |    |    |    |    |    |    22 => -0.9095700546860268\n",
      "|    |    |    |    |    |    |    |    |    |    |    |    Leaf: -0.7175165052831842\n",
      "|    |    |    |    |    |    |    |    |    |    |    6 => -0.40144520272982737\n",
      "|    |    |    |    |    |    |    |    |    |    |    |    |    Leaf: -0.7010099259451831\n",
      "|    |    |    |    |    |    |    |    |    |    |    |    46 => 0.43375680580762244\n",
      "|    |    |    |    |    |    |    |    |    |    |    |    |    Leaf: -0.6012855046850195\n",
      "|    |    |    |    |    |    |    |    1 => -0.5081521739130436\n",
      "|    |    |    |    |    |    |    |    |    13 => 0.19452980946527343\n",
      "|    |    |    |    |    |    |    51 => -0.9998713339168116\n",
      "|    |    |    |    |    |    |    |    Leaf: -0.5017024317801232\n",
      "|    |    |    |    |    |    25 => -0.9991021897810219\n",
      "|    |    |    |    |    |    |    Leaf: -0.7841825053565095\n",
      "|    |    |    |    30 => -0.6549861495844875\n",
      "|    |    |    |    |    Leaf: -0.3538473730852569\n",
      "|    |    |    51 => -0.9999817563016375\n",
      "|    |    |    |    Leaf: -0.3163622371909461\n"
     ]
    }
   ],
   "source": [
    "ndt = NumericalDecisionTree_regressor()\n",
    "ndt.fit(trainVal_data, trainVal_values, depth=100, minElems_perLeaf=10, post_pruning=True)\n",
    "ndt.pprint()"
   ]
  },
  {
   "cell_type": "code",
   "execution_count": 41,
   "metadata": {},
   "outputs": [
    {
     "name": "stdout",
     "output_type": "stream",
     "text": [
      "Residual variance: 0.08570377684485685\n",
      "Root Mean Square Error: 0.19378483527442486\n",
      "R^2 score: 0.19983333135023185\n"
     ]
    }
   ],
   "source": [
    "pred = ndt.predict(test_data)\n",
    "rem = Regression_evaluationMetric(test_values, pred)\n",
    "\n",
    "print(\"Residual variance: {}\".format(np.var(test_values-pred)))\n",
    "\n",
    "print(\"Root Mean Square Error: {}\".format(rem.rootMeanSquareError()))\n",
    "print(\"R^2 score: {}\".format(rem.rSquared()))"
   ]
  },
  {
   "cell_type": "code",
   "execution_count": 42,
   "metadata": {
    "scrolled": true
   },
   "outputs": [
    {
     "data": {
      "text/plain": [
       "[(99, 0.02872298171055414),\n",
       " (44, 0.022597823518997785),\n",
       " (46, 0.01829655406474006),\n",
       " (69, 0.017213417103750087),\n",
       " (71, 0.016854168802100927),\n",
       " (43, 0.014670909926609051),\n",
       " (40, 0.013069012563635287),\n",
       " (14, 0.012891609721756977),\n",
       " (55, 0.012882717739196511),\n",
       " (25, 0.011382864984020316),\n",
       " (96, 0.011124581482850664),\n",
       " (59, 0.010939887357280022),\n",
       " (26, 0.010639444588428052),\n",
       " (30, 0.009582026356910366),\n",
       " (51, 0.009409430781437637),\n",
       " (98, 0.00882904967977357),\n",
       " (76, 0.008643329278637861),\n",
       " (62, 0.008415497950840945),\n",
       " (24, 0.008295123507439287),\n",
       " (49, 0.007907880914047257),\n",
       " (92, 0.007595076533922155),\n",
       " (65, 0.0075719273448167914),\n",
       " (88, 0.007372784342055995),\n",
       " (66, 0.006990209737630659),\n",
       " (42, 0.006933635265293129),\n",
       " (18, 0.006858764214287422),\n",
       " (38, 0.006308201486665196),\n",
       " (15, 0.006039351076860478),\n",
       " (94, 0.00596011623966165),\n",
       " (27, 0.0059133693019019495),\n",
       " (68, 0.005775585793447547),\n",
       " (72, 0.00494763667911347),\n",
       " (6, 0.004616089051825771),\n",
       " (22, 0.0045743055032495435),\n",
       " (74, 0.004520854854281493),\n",
       " (47, 0.004434361605345421),\n",
       " (48, 0.004372375284312717),\n",
       " (95, 0.00427075946584207),\n",
       " (73, 0.00415755198659172),\n",
       " (28, 0.004133271766843532),\n",
       " (61, 0.003422107273296764),\n",
       " (8, 0.0032463674419876956),\n",
       " (23, 0.0032427567746616728),\n",
       " (60, 0.0030873899823819296),\n",
       " (75, 0.003044189857991218),\n",
       " (97, 0.0028881858870546603),\n",
       " (79, 0.002841686389765083),\n",
       " (58, 0.0022100952080304315),\n",
       " (2, 0.00215515045465539),\n",
       " (41, 0.0020331826007164125),\n",
       " (1, 0.001979989627773223),\n",
       " (13, 0.001971971092625195),\n",
       " (5, 0.001941240621986042),\n",
       " (32, 0.0018789109812721652),\n",
       " (36, 0.001630044764249915),\n",
       " (53, 0.001607496413416646),\n",
       " (100, 0.001430945737732013),\n",
       " (93, 0.001410693209049469),\n",
       " (17, 0.00136988260345577),\n",
       " (39, 0.0013405852982702028),\n",
       " (45, 0.0011308912943523224),\n",
       " (34, 0.0010806467223138261),\n",
       " (4, 0.000981310113580421),\n",
       " (64, 0.0008970975076719418),\n",
       " (29, 0.0008903513167820012),\n",
       " (19, 0.0007711303662437492),\n",
       " (3, 0.0007113779310829),\n",
       " (57, 0.0007016049834074862),\n",
       " (77, 0.000696682609740111),\n",
       " (35, 0.0005414520751826383),\n",
       " (20, 0.0005109565378486648),\n",
       " (50, 0.0003880306709745196),\n",
       " (91, 0.00022449967790631617),\n",
       " (9, 0.00019669801976588818),\n",
       " (0, 7.923518887722049e-05),\n",
       " (7, 0),\n",
       " (10, 0),\n",
       " (11, 0),\n",
       " (12, 0),\n",
       " (16, 0),\n",
       " (21, 0),\n",
       " (31, 0),\n",
       " (33, 0),\n",
       " (37, 0),\n",
       " (52, 0),\n",
       " (54, 0),\n",
       " (56, 0),\n",
       " (63, 0),\n",
       " (67, 0),\n",
       " (70, 0),\n",
       " (78, 0),\n",
       " (80, 0),\n",
       " (81, 0),\n",
       " (82, 0),\n",
       " (83, 0),\n",
       " (84, 0),\n",
       " (85, 0),\n",
       " (86, 0),\n",
       " (87, 0),\n",
       " (89, 0),\n",
       " (90, 0),\n",
       " (101, 0)]"
      ]
     },
     "execution_count": 42,
     "metadata": {},
     "output_type": "execute_result"
    }
   ],
   "source": [
    "ndt.sort_featureImportances()"
   ]
  },
  {
   "cell_type": "markdown",
   "metadata": {},
   "source": [
    "### Decision Tree SkLearn Class"
   ]
  },
  {
   "cell_type": "code",
   "execution_count": 43,
   "metadata": {},
   "outputs": [
    {
     "data": {
      "text/plain": [
       "array([ 44,  43,  30,  41,  68,  72,  92,  97,  34,   8,  46,  66,  36,\n",
       "        49,  31,  69,  27,  81,  22,  95,  74,  76,  24,  26,  80,  37,\n",
       "        87,  93,  38,  89,  67,  71,  98,   9,  50,  20,   4,   7,  40,\n",
       "        23,  96,  14,  39,   1,  45,  17,  94,  52,  99,  12,  57,  85,\n",
       "        73,  62, 100,  86,  16,  65,  88,  29,  28,  54,  25,  61,   3,\n",
       "        60,  78,  75,   5,  90,  84,   2,  51, 101,  13,   6,  47,  18,\n",
       "        42,  56,  83,  91,  15,  82,  35,  32,  77,   0,  10,  64,  48,\n",
       "        58,  59,  63,  53,  55,  21,  33,  70,  11,  19,  79])"
      ]
     },
     "execution_count": 43,
     "metadata": {},
     "output_type": "execute_result"
    }
   ],
   "source": [
    "from sklearn.tree import DecisionTreeRegressor\n",
    "\n",
    "dtr = DecisionTreeRegressor()\n",
    "dtr.fit(trainVal_data, trainVal_values)\n",
    "np.flip(np.argsort(dtr.feature_importances_))"
   ]
  },
  {
   "cell_type": "code",
   "execution_count": 44,
   "metadata": {},
   "outputs": [
    {
     "name": "stdout",
     "output_type": "stream",
     "text": [
      "Residual variance: 0.08897571870075913\n",
      "Root Mean Square Error: 0.20618786247395815\n",
      "R^2 score: 0.09412750545053872\n"
     ]
    }
   ],
   "source": [
    "pred = dtr.predict(test_data)\n",
    "rem = Regression_evaluationMetric(test_values, pred)\n",
    "\n",
    "print(\"Residual variance: {}\".format(np.var(test_values-pred)))\n",
    "\n",
    "print(\"Root Mean Square Error: {}\".format(rem.rootMeanSquareError()))\n",
    "print(\"R^2 score: {}\".format(rem.rSquared()))"
   ]
  },
  {
   "cell_type": "markdown",
   "metadata": {},
   "source": [
    "### Project Random Forest class definition"
   ]
  },
  {
   "cell_type": "code",
   "execution_count": 45,
   "metadata": {},
   "outputs": [],
   "source": [
    "class NumericalRandomForest_regressor:\n",
    "    def __init__(self, n_trees, trees=None, bootstrap_subSpace=None, outOfBag_error=None, feat_importances=None):\n",
    "        self.n_trees = n_trees\n",
    "        self.trees = trees\n",
    "        self.bootSamplesIdxs_SubSp = bootstrap_subSpace\n",
    "        self.oob_error = outOfBag_error\n",
    "        self.feature_importances = feat_importances\n",
    "        \n",
    "    def fit(self, X, y, depth, minElems_perLeaf, post_pruning=True, verbose=False):\n",
    "        n,d = X.shape\n",
    "        \n",
    "        self.trees = []\n",
    "        self.bootSamplesIdxs_SubSp = []\n",
    "        self.feature_importances = {k:0 for k in range(d)}\n",
    "        \n",
    "        n_learn = int(n/3) # Bootstrap amount to be taken aside\n",
    "        # random subspace method amount\n",
    "        d_learn = int(d/self.n_trees) if int(d/self.n_trees) >= int(np.sqrt(d)) else int(np.sqrt(d))\n",
    "                \n",
    "        # Fitting the forest -----------------------------------\n",
    "        for i in range(self.n_trees):\n",
    "            if verbose: print(\"\\tFitting #{} tree\".format(i+1))\n",
    "            \n",
    "            bootstrap_idxs = np.sort(np.random.permutation(n)[:n_learn])\n",
    "            subspace_idxs = np.sort(np.random.permutation(d)[:d_learn])\n",
    "            self.bootSamplesIdxs_SubSp.append((bootstrap_idxs, subspace_idxs))\n",
    "                        \n",
    "            dt = NumericalDecisionTree_regressor()\n",
    "            \n",
    "            self.trees.append(dt.fit(X[~bootstrap_idxs][:,subspace_idxs], y[~bootstrap_idxs],\n",
    "                                     depth=depth, minElems_perLeaf=minElems_perLeaf, post_pruning=post_pruning))\n",
    "            \n",
    "            for k,v in dt.feature_importances.items():\n",
    "                self.feature_importances[subspace_idxs[k]] += v\n",
    "        \n",
    "        # Out-Of-Bag Estimate for the forest -------------------\n",
    "        oob_errors = []\n",
    "        for sampleIdx in range(n):\n",
    "            # finds all the tree that not have current sample in their bootstrapp set (not trained on it)\n",
    "            # and the relative subspace on wich they have been trained\n",
    "            missingTreesIdx_subspc = [(idx,subspace_idxs) for idx,(bootstrap_idxs,subspace_idxs)\n",
    "                                      in enumerate(self.bootSamplesIdxs_SubSp)\n",
    "                                      if sampleIdx not in bootstrap_idxs]\n",
    "\n",
    "            if len(missingTreesIdx_subspc) == 0: continue\n",
    "            \n",
    "            regr_results = np.empty(len(missingTreesIdx_subspc)) # regression estimate of the selected trees\n",
    "            for i, (missingTree_idx, tree_subSpace) in enumerate(missingTreesIdx_subspc):\n",
    "                # reshape in order to correctly use the decision_tree.predict(...): it needs a matrix (num,dim)\n",
    "                # while numpy matrix indexing returns (dim,)\n",
    "                regr_results[i] = self.trees[missingTree_idx].predict(X[sampleIdx,tree_subSpace].reshape(1,-1))\n",
    "            \n",
    "            # done at this level of granularity because a sample might end up in \n",
    "            # being part of no bootstrap set of any tree (so we cannot predict wich value in y will be used)\n",
    "            oob_errors.append(np.square(y[sampleIdx]-np.mean(regr_results)))\n",
    "            #oob_errors.append(r2_score(np.mean(regr_results),y[sampleIdx]))\n",
    "            #oob_errors.append(explained_variance_score(np.mean(regr_results),y[sampleIdx]))\n",
    "            \n",
    "        self.oob_error = np.sqrt(np.mean(oob_errors))\n",
    "        return self\n",
    "            \n",
    "        \n",
    "    def predict(self,X):\n",
    "        if len(self.trees)==0:\n",
    "            raise Exception(\"Trees not initialised! need to first fit the model\")\n",
    "\n",
    "        n,_ = X.shape\n",
    "        results = np.empty((self.n_trees,n))\n",
    "        for row, (tree,(_,subspace_idxs)) in enumerate(zip(self.trees, self.bootSamplesIdxs_SubSp)):\n",
    "            results[row] = tree.predict(X[:,subspace_idxs])\n",
    "            \n",
    "        return np.mean(results,axis=0)\n",
    "    \n",
    "    def sort_featureImportances(self, columns=None, num=0):\n",
    "        if self.feature_importances is None:\n",
    "            raise Exception(\"Need to first fit the model!\")\n",
    "            \n",
    "        d = len(self.feature_importances)\n",
    "        n_printFeat = d if not num else num\n",
    "        \n",
    "        if columns is None:\n",
    "            return sorted(self.feature_importances.items(), key=lambda kv: kv[1], reverse=True)[:n_printFeat]\n",
    "\n",
    "        if len(columns) != d:\n",
    "            raise Exception(\"Argument list lenght differs from feature total amount\")\n",
    "        return sorted(zip(columns, map(lambda kv: round(kv[1], 4), self.feature_importances.items())),\n",
    "                      key=lambda kv: kv[1], reverse=True)[:n_printFeat]"
   ]
  },
  {
   "cell_type": "code",
   "execution_count": 46,
   "metadata": {},
   "outputs": [
    {
     "name": "stdout",
     "output_type": "stream",
     "text": [
      "Training 1 trees\n",
      "Training 10 trees\n",
      "Training 20 trees\n",
      "Training 30 trees\n",
      "Training 50 trees\n",
      "Training 70 trees\n",
      "Training 100 trees\n",
      "Training 150 trees\n",
      "Training 200 trees\n"
     ]
    }
   ],
   "source": [
    "n_trees = [1,10,20,30,50,70,100,150,200]\n",
    "oob_errors = np.empty(len(n_trees))\n",
    "for i, num_t in enumerate(n_trees):\n",
    "    print(\"Training {} trees\".format(num_t))\n",
    "    nrf = NumericalRandomForest_regressor(num_t)\n",
    "    # no train and test, cause it's a forest\n",
    "    nrf.fit(data, values, depth=100, minElems_perLeaf=5);\n",
    "    oob_errors[i] = nrf.oob_error"
   ]
  },
  {
   "cell_type": "code",
   "execution_count": 47,
   "metadata": {},
   "outputs": [
    {
     "data": {
      "image/png": "[encoded data removed]",
      "text/plain": [
       "<Figure size 432x288 with 1 Axes>"
      ]
     },
     "metadata": {
      "needs_background": "light"
     },
     "output_type": "display_data"
    }
   ],
   "source": [
    "plt.title(\"Out-Of-Bag errors per estimator amount (trees number)\")\n",
    "plt.errorbar(n_trees,oob_errors, fmt='--o');\n",
    "plt.xticks(n_trees)\n",
    "plt.grid()"
   ]
  },
  {
   "cell_type": "markdown",
   "metadata": {},
   "source": [
    "### Random Forest SkLearn class"
   ]
  },
  {
   "cell_type": "code",
   "execution_count": 50,
   "metadata": {},
   "outputs": [
    {
     "data": {
      "text/plain": [
       "array([ 44,  43,  40,  41,  92,  38,  68,  71,  34,  46,  66,  72,  49,\n",
       "        27,  98,  36,  45,  76,  86,  95,  74,  75,  14,  24,  22,   3,\n",
       "        25,  99,  77,  21,  94,   8,  96,  18,   4,  97,  26,  89,   6,\n",
       "        78,  35,  61,  23,   0,  33,   2,  90,  69,  88,  17, 100,  39,\n",
       "        50,  79,  16,  82,   5,  60,  28,  54,  37,  67,   1,  55,  47,\n",
       "        87,  48,  64,   7,   9,  65,  52,  15,  62,  13,  93,  30,  32,\n",
       "        31,  12,  51,  73,  91,  29,  80,  53,  20,  19,  59,  81,  56,\n",
       "        85,  63,  83,  84,  10,  58,  42,  57, 101,  11,  70])"
      ]
     },
     "execution_count": 50,
     "metadata": {},
     "output_type": "execute_result"
    }
   ],
   "source": [
    "from sklearn.ensemble import RandomForestRegressor\n",
    "\n",
    "rfr = RandomForestRegressor(n_estimators=100)\n",
    "# oob error not working, need to perform evaluation on test split\n",
    "rfr.fit(trainVal_data, trainVal_values.ravel())\n",
    "np.flip(np.argsort(rfr.feature_importances_))"
   ]
  },
  {
   "cell_type": "code",
   "execution_count": 51,
   "metadata": {},
   "outputs": [
    {
     "name": "stdout",
     "output_type": "stream",
     "text": [
      "Residual variance: 0.06920646091022262\n",
      "Root Mean Square Error: 0.15735803041289909\n",
      "R^2 score: 0.4723830943764865\n"
     ]
    }
   ],
   "source": [
    "pred = rfr.predict(test_data)\n",
    "rem = Regression_evaluationMetric(test_values, pred)\n",
    "\n",
    "print(\"Residual variance: {}\".format(np.var(test_values-pred)))\n",
    "\n",
    "print(\"Root Mean Square Error: {}\".format(rem.rootMeanSquareError()))\n",
    "print(\"R^2 score: {}\".format(rem.rSquared()))"
   ]
  },
  {
   "cell_type": "markdown",
   "metadata": {},
   "source": [
    "# Predictors - Models definition"
   ]
  },
  {
   "cell_type": "markdown",
   "metadata": {},
   "source": [
    "## 1. Regularised Least Squares\n",
    "   "
   ]
  },
  {
   "cell_type": "code",
   "execution_count": 54,
   "metadata": {},
   "outputs": [],
   "source": [
    "class tikhonov_leastSquares:\n",
    "    def __init__(self, weights = None):\n",
    "        self.weights = weights\n",
    "        \n",
    "    def fit(self, X, y, _lambda):\n",
    "        inv = np.linalg.inv(np.matmul(X.T, X) + _lambda*np.eye(X.shape[1]))\n",
    "        self.weights = np.matmul(inv, np.matmul(X.T, y))\n",
    "        return self\n",
    "    \n",
    "    def predict(self, X):\n",
    "        if self.weights is None:\n",
    "            raise Exception(\"weights not initialised! need to first fit the model\")\n",
    "        return np.matmul(X, self.weights)"
   ]
  },
  {
   "cell_type": "code",
   "execution_count": 55,
   "metadata": {},
   "outputs": [
    {
     "name": "stdout",
     "output_type": "stream",
     "text": [
      "Best regulariser: 2\n",
      "Residual variance: 0.023245735124879163\n",
      "Root Mean Square Error: 0.15316674001627847\n",
      "R^2 score: 0.5001153300393807\n"
     ]
    }
   ],
   "source": [
    "k = 5\n",
    "params_dict = {\"_lambda\":[1,1.3,1.5,1.7,2]}\n",
    "\n",
    "tls = tikhonov_leastSquares()\n",
    "\n",
    "win_regulariser = kFold_crossValidation_selectionGrid(k, params_dict, trainVal_data, trainVal_values, tls)[0]\n",
    "print(\"Best regulariser: {}\".format(win_regulariser))\n",
    "tls.fit(trainVal_data, trainVal_values, win_regulariser)\n",
    "pred = tls.predict(test_data)\n",
    "\n",
    "rem = Regression_evaluationMetric(test_values, pred)\n",
    "\n",
    "print(\"Residual variance: {}\".format(np.var(test_values-pred)))\n",
    "\n",
    "print(\"Root Mean Square Error: {}\".format(rem.rootMeanSquareError()))\n",
    "print(\"R^2 score: {}\".format(rem.rSquared()))"
   ]
  },
  {
   "cell_type": "markdown",
   "metadata": {},
   "source": [
    "## 2. Random Forest"
   ]
  },
  {
   "cell_type": "code",
   "execution_count": 56,
   "metadata": {
    "scrolled": true
   },
   "outputs": [
    {
     "name": "stdout",
     "output_type": "stream",
     "text": [
      "Residual variance: 0.06241032752976231\n",
      "Root Mean Square Error: 0.16051688268735884\n",
      "R^2 score: 0.4509873967695254\n"
     ]
    }
   ],
   "source": [
    "rf = NumericalRandomForest_regressor(100)\n",
    "rf.fit(trainVal_data, trainVal_values, depth=100, minElems_perLeaf=10);\n",
    "\n",
    "pred = rf.predict(test_data)\n",
    "rem = Regression_evaluationMetric(test_values, pred)\n",
    "\n",
    "print(\"Residual variance: {}\".format(np.var(test_values-pred)))\n",
    "\n",
    "print(\"Root Mean Square Error: {}\".format(rem.rootMeanSquareError()))\n",
    "print(\"R^2 score: {}\".format(rem.rSquared()))"
   ]
  },
  {
   "cell_type": "code",
   "execution_count": 57,
   "metadata": {},
   "outputs": [
    {
     "data": {
      "text/plain": [
       "0.11292996277685952"
      ]
     },
     "execution_count": 57,
     "metadata": {},
     "output_type": "execute_result"
    }
   ],
   "source": [
    "rf.oob_error"
   ]
  },
  {
   "cell_type": "code",
   "execution_count": 58,
   "metadata": {
    "scrolled": true
   },
   "outputs": [
    {
     "data": {
      "text/plain": [
       "[(44, 0.5409551167031318),\n",
       " (46, 0.5106227836627024),\n",
       " (49, 0.4747469666436215),\n",
       " (40, 0.4581330321743458),\n",
       " (41, 0.4466276504519485),\n",
       " (63, 0.3615594538354053),\n",
       " (0, 0.3364830988179508),\n",
       " (69, 0.3200312839776561),\n",
       " (28, 0.304014717017596),\n",
       " (99, 0.2984591718605974),\n",
       " (84, 0.2974844895358142),\n",
       " (57, 0.28598351752049617),\n",
       " (72, 0.2859085427736752),\n",
       " (50, 0.28450464251214413),\n",
       " (9, 0.2779654488909611),\n",
       " (27, 0.27219752796854746),\n",
       " (39, 0.27164720896279015),\n",
       " (7, 0.26066114512575256),\n",
       " (21, 0.2603829906649481),\n",
       " (19, 0.25632564484066644),\n",
       " (82, 0.25605958397765893),\n",
       " (35, 0.25329321459372406),\n",
       " (75, 0.2532477686174295),\n",
       " (12, 0.2499524414943965),\n",
       " (42, 0.24798604476978348),\n",
       " (88, 0.2462894352489414),\n",
       " (31, 0.2400824475244392),\n",
       " (1, 0.2380064788994282),\n",
       " (85, 0.23002340833921336),\n",
       " (23, 0.22792630980453482),\n",
       " (74, 0.22789575375142984),\n",
       " (61, 0.22465596391104106),\n",
       " (34, 0.22452298578853205),\n",
       " (38, 0.22147113564560772),\n",
       " (2, 0.22044031029606026),\n",
       " (52, 0.2204088914538338),\n",
       " (76, 0.2193085977609715),\n",
       " (20, 0.2175721362379213),\n",
       " (77, 0.21643713964086542),\n",
       " (8, 0.21534979732327325),\n",
       " (80, 0.2148637207662133),\n",
       " (25, 0.21467795321676814),\n",
       " (37, 0.21459989973809482),\n",
       " (29, 0.21437124482936515),\n",
       " (55, 0.21359854247267823),\n",
       " (43, 0.20635305903521167),\n",
       " (71, 0.20634415156343622),\n",
       " (5, 0.20499598793396032),\n",
       " (45, 0.20493288534714185),\n",
       " (96, 0.1978448029710595),\n",
       " (94, 0.1964245652564879),\n",
       " (59, 0.1952323689180604),\n",
       " (54, 0.1948934507768786),\n",
       " (65, 0.19264438528284444),\n",
       " (87, 0.19190067044039497),\n",
       " (97, 0.191374331566951),\n",
       " (62, 0.18765330425157986),\n",
       " (47, 0.18711870710610992),\n",
       " (53, 0.1807100874165126),\n",
       " (66, 0.17827313408584472),\n",
       " (64, 0.17669621834885071),\n",
       " (100, 0.17574996850222344),\n",
       " (33, 0.17362894461440992),\n",
       " (4, 0.16944184368854162),\n",
       " (16, 0.1679597943916542),\n",
       " (18, 0.16673338808557692),\n",
       " (58, 0.16581142165944818),\n",
       " (32, 0.16411979591965903),\n",
       " (73, 0.1628469761222617),\n",
       " (68, 0.16190764397745255),\n",
       " (95, 0.15827177369803566),\n",
       " (98, 0.15778294615679278),\n",
       " (3, 0.1527527199522315),\n",
       " (14, 0.15246015031363616),\n",
       " (22, 0.15157428191339184),\n",
       " (67, 0.15011461636504833),\n",
       " (13, 0.15003810187874878),\n",
       " (89, 0.14512274726306965),\n",
       " (48, 0.14129324447989225),\n",
       " (26, 0.13950886032850765),\n",
       " (60, 0.13727347707014947),\n",
       " (15, 0.13499945813275935),\n",
       " (6, 0.1332070656224914),\n",
       " (81, 0.13248032771044044),\n",
       " (93, 0.1317382004308807),\n",
       " (91, 0.13010885123629087),\n",
       " (24, 0.12517684499025716),\n",
       " (30, 0.1231107195196393),\n",
       " (79, 0.12198297205812007),\n",
       " (17, 0.11415247961535015),\n",
       " (83, 0.11399874065467808),\n",
       " (78, 0.11102565427859142),\n",
       " (36, 0.10244351328606804),\n",
       " (56, 0.10219075040337104),\n",
       " (86, 0.09879643124193127),\n",
       " (10, 0.09040253876346926),\n",
       " (101, 0.06471331137900636),\n",
       " (90, 0.06133556083423892),\n",
       " (92, 0.05911441122815195),\n",
       " (51, 0.03912846608752802),\n",
       " (11, 0.035141631025017),\n",
       " (70, 0.025008147075233758)]"
      ]
     },
     "execution_count": 58,
     "metadata": {},
     "output_type": "execute_result"
    }
   ],
   "source": [
    "rf.sort_featureImportances()"
   ]
  },
  {
   "cell_type": "markdown",
   "metadata": {},
   "source": [
    "## 3. SVM - Not Working (use the sklearn model)"
   ]
  },
  {
   "cell_type": "code",
   "execution_count": 59,
   "metadata": {},
   "outputs": [],
   "source": [
    "class linear_SupportVector_regression:\n",
    "    def __init__(self, weight=None, alpha=None, bias=None):\n",
    "        self.x = alpha\n",
    "        self.w = weight\n",
    "        self.bias = bias\n",
    "        self.Nabla = None\n",
    "                \n",
    "    def SMO2_ab(self, n, H, f, a, LB, UB, maxiter, eps, alpha_s):\n",
    "        \"\"\"\n",
    "        % min_{x} .5 x H x + f' x \n",
    "        %         LB <= x <= UB\n",
    "        %         a' x = b\n",
    "        % n         grandezza problema length(x)\n",
    "        % maxiter   max num it\n",
    "        % eps       precisione\n",
    "        % alpha_s   punto di inizio valido per x\n",
    "        % Nabla     ....\n",
    "        % err       flag di ok\n",
    "        % x         valore della soluzione ottima\n",
    "        % bias      ....\n",
    "        \"\"\"\n",
    "        self.x = alpha_s\n",
    "        self.Nabla = f\n",
    "        for i in range(n):\n",
    "            if (self.x[i] != 0.0):\n",
    "                for j in range(n):\n",
    "                    self.Nabla[j] += H[j,i] * self.x[i]\n",
    "        iter_ = 0\n",
    "        while True:\n",
    "            minF_up = float(\"inf\");\n",
    "            maxF_low = float(\"-inf\");\n",
    "            for i in range(n): \n",
    "                F_i = self.Nabla[i]/a[i]\n",
    "                if (LB[i] < self.x[i]) and (self.x[i] < UB[i]) :\n",
    "                    if (minF_up > F_i):\n",
    "                        minF_up = F_i\n",
    "                        u = i\n",
    "                    if (maxF_low < F_i):\n",
    "                        maxF_low = F_i\n",
    "                        v = i\n",
    "                elif (((a[i] > 0) and (self.x[i] == LB[i])) or ((a[i] < 0) and (self.x[i] == UB[i]))) : \n",
    "                    if (minF_up > F_i):\n",
    "                        minF_up = F_i\n",
    "                        u = i\n",
    "                elif (((a[i] > 0) and (self.x[i] == UB[i])) or ((a[i] < 0) and (self.x[i] == LB[i]))) : \n",
    "                    if (maxF_low < F_i):\n",
    "                        maxF_low = F_i\n",
    "                        v = i\n",
    "            if ((maxF_low - minF_up) <= eps):\n",
    "                err = 0.0\n",
    "                break\n",
    "\n",
    "            iter_ += 1\n",
    "            if (iter_ >= maxiter):\n",
    "                err = 1.0\n",
    "                break\n",
    "\n",
    "            if (a[u] > 0):\n",
    "                tau_lb = (LB[u]-self.x[u])*a[u] \n",
    "                tau_ub = (UB[u]-self.x[u])*a[u] \n",
    "            else:\n",
    "                tau_ub = (LB[u]-self.x[u])*a[u] \n",
    "                tau_lb = (UB[u]-self.x[u])*a[u]\n",
    "\n",
    "            if (a[v] > 0):\n",
    "                tau_lb = max(tau_lb,(self.x[v]-UB[v])*a[v]) \n",
    "                tau_ub = min(tau_ub,(self.x[v]-LB[v])*a[v]) \n",
    "            else:\n",
    "                tau_lb = max(tau_lb,(self.x[v]-LB[v])*a[v]) \n",
    "                tau_ub = min(tau_ub,(self.x[v]-UB[v])*a[v])\n",
    "\n",
    "            tau = (self.Nabla[v]/a[v]-self.Nabla[u]/a[u])/(H[u,u]/(a[u]*a[u])\n",
    "                                                           +H[v,v]/(a[v]*a[v])\n",
    "                                                           -2*H[v,u]/(a[u]*a[v]))\n",
    "            tau = min(max(tau,tau_lb),tau_ub)\n",
    "            self.x[u] += tau/a[u]\n",
    "            self.x[v] -= tau/a[v]\n",
    "\n",
    "            for i in range(n):\n",
    "                self.Nabla[i] += H[u,i]*tau/a[u] - H[v,i]*tau/a[v]\n",
    "\n",
    "        tsv = 0\n",
    "        self.bias = 0.0\n",
    "\n",
    "        for k in range(n):\n",
    "            if ((self.x[k] > LB[k]) and (self.x[k] < UB[k])):\n",
    "                self.bias -= self.Nabla[k]/a[k]\n",
    "                tsv += 1\n",
    "\n",
    "        if (tsv > 0):\n",
    "            self.bias /= tsv\n",
    "        else:    \n",
    "            self.bias = -(maxF_low + minF_up)/2.0\n",
    "\n",
    "        return err\n",
    "    \n",
    "    def fit(self, X, y, C):\n",
    "        n = X.shape[0]\n",
    "        cov = np.matmul(X, X.T)\n",
    "        Q = np.matmul(np.matmul(np.diag(y.flatten()), cov),\n",
    "                      np.diag(y.flatten()))\n",
    "        \n",
    "        if self.SMO2_ab(n,Q,-np.ones(n),y.flatten(),\n",
    "                   np.zeros(n),C*np.ones(n),10000000,.0001,np.zeros(n)):\n",
    "            print(\"Problem in SMO\")\n",
    "            \n",
    "        self.w = np.matmul(np.matmul(X.T, np.diag(y.flatten())),\n",
    "                           self.x)\n",
    "        \n",
    "        return self\n",
    "    \n",
    "    def predict(self, X):\n",
    "        return np.matmul(X, self.w) + self.bias"
   ]
  },
  {
   "cell_type": "code",
   "execution_count": 176,
   "metadata": {},
   "outputs": [
    {
     "name": "stdout",
     "output_type": "stream",
     "text": [
      "Best regulariser: 1e-05\n",
      "Residual variance: 0.04693092612286072\n",
      "Root Mean Square Error: 6.306434099679313\n",
      "R^2 score: -846.4393069706127\n"
     ]
    }
   ],
   "source": [
    "k = 5\n",
    "params_dict = {\"C\":[0.00001,0.0001,0.001,0.01,0.1]}\n",
    "\n",
    "lsvr = linear_SupportVector_regression()\n",
    "\n",
    "win_regulariser = kFold_crossValidation_selectionGrid(k, params_dict, trainVal_data, trainVal_values, lsvr)[0]\n",
    "print(\"Best regulariser: {}\".format(win_regulariser))\n",
    "lsvr.fit(trainVal_data, trainVal_values, C=win_regulariser)\n",
    "\n",
    "pred = lsvr.predict(test_data)\n",
    "rem = Regression_evaluationMetric(test_values, pred)\n",
    "\n",
    "print(\"Residual variance: {}\".format(np.var(test_values-pred)))\n",
    "print(\"Root Mean Square Error: {}\".format(rem.rootMeanSquareError()))\n",
    "print(\"R^2 score: {}\".format(rem.rSquared()))"
   ]
  },
  {
   "cell_type": "code",
   "execution_count": 177,
   "metadata": {},
   "outputs": [
    {
     "data": {
      "text/plain": [
       "(array([  67,   70,   96,  109,  111,  239,  243,  266,  302,  385,  422,\n",
       "         430,  517,  569,  605,  622,  643,  663,  682,  710,  741,  858,\n",
       "         875,  987, 1031, 1032, 1064, 1075, 1192, 1209, 1291, 1428]),)"
      ]
     },
     "execution_count": 177,
     "metadata": {},
     "output_type": "execute_result"
    }
   ],
   "source": [
    "np.where(lsvr.x)"
   ]
  },
  {
   "cell_type": "code",
   "execution_count": 178,
   "metadata": {},
   "outputs": [],
   "source": [
    "from sklearn.svm import SVR\n",
    "svr = SVR(kernel=\"linear\", tol=.0001, C=1)\n",
    "svr.fit(trainVal_data, trainVal_values.flatten());"
   ]
  },
  {
   "cell_type": "code",
   "execution_count": 182,
   "metadata": {
    "scrolled": true
   },
   "outputs": [
    {
     "data": {
      "text/plain": [
       "array([  0,   1,   2,   3,   4,   5,   6,   7,   8,   9,  10,  11,  12,\n",
       "        13,  14,  15,  16,  17,  18,  19,  20,  21,  22,  23,  24,  25,\n",
       "        26,  27,  28,  29,  30,  31,  32,  33,  34,  35,  36,  37,  38,\n",
       "        39,  40,  41,  42,  43,  44,  45,  46,  47,  48,  49,  50,  51,\n",
       "        52,  53,  54,  55,  56,  57,  58,  59,  60,  61,  62,  63,  64,\n",
       "        65,  66,  67,  68,  69,  70,  71,  72,  73,  74,  75,  76,  77,\n",
       "        78,  79,  80,  81,  82,  83,  84,  85,  86,  87,  88,  89,  90,\n",
       "        91,  92,  93,  94,  95,  96,  97,  98,  99, 100, 101, 102, 103,\n",
       "       104, 105, 106, 107, 108, 109, 110, 111, 112, 113, 114, 115, 116,\n",
       "       117, 118, 119, 120, 121, 122, 123, 124, 125, 126, 127, 128, 129,\n",
       "       130, 131, 132, 133, 134, 135, 136, 137, 138, 139, 140, 141, 142,\n",
       "       143, 144, 145, 146, 147, 148, 149, 150, 151, 152, 153, 154, 155,\n",
       "       156, 157, 158, 159, 160, 161, 162, 163, 164, 165, 166, 167, 168,\n",
       "       169, 170, 171, 172, 173, 174, 175, 176, 177, 178, 179, 180, 181,\n",
       "       182, 183, 184, 185, 186, 187, 188, 189, 190, 191, 192, 193, 194,\n",
       "       195, 196, 197, 198, 199, 200, 201, 202, 203, 204, 205, 206, 207,\n",
       "       208, 209, 210, 211, 212, 213, 214, 215, 216, 217, 218, 219, 220,\n",
       "       221, 222, 223, 224, 225, 226, 227, 228, 229, 230, 231, 232, 233,\n",
       "       234, 235, 236, 237, 238, 239, 240, 241, 242, 243, 244, 245, 246,\n",
       "       247, 248, 249, 250, 251, 252, 253, 254, 255, 256, 257, 258, 259,\n",
       "       260, 261, 262, 263, 264, 265, 266, 267, 268, 269, 270, 271, 272,\n",
       "       273, 274, 275, 276, 277, 278, 279, 280, 281, 282, 283, 284, 285,\n",
       "       286, 287, 288, 289, 290, 291, 292, 293, 294, 295, 296, 297, 298,\n",
       "       299, 300, 301, 302, 303, 304, 305, 306, 307, 308, 309, 310, 311,\n",
       "       312, 313, 314, 315, 316, 317, 318, 319, 320, 321, 322, 323, 324,\n",
       "       325, 326, 327, 328, 329, 330, 331, 332, 333, 334, 335, 336, 337,\n",
       "       338, 339, 340, 341, 342, 343, 344, 345, 346, 347, 348, 349, 350,\n",
       "       351, 352, 353, 354, 355, 356, 357, 358, 359, 360, 361, 362, 363,\n",
       "       364, 365, 366, 367, 368, 369, 370, 371, 372, 373, 374, 375, 376,\n",
       "       377, 378, 379, 380, 381, 382, 383, 384, 385, 386, 387, 388, 389,\n",
       "       390, 391, 392, 393, 394, 395, 396, 397, 398, 399, 400, 401, 402,\n",
       "       403, 404, 405, 406, 407, 408, 409, 410, 411, 412, 413, 414, 415,\n",
       "       416, 417, 418, 419, 420, 421, 422, 423, 424, 425, 426, 427, 428,\n",
       "       429, 430, 431, 432, 433, 434, 435, 436, 437, 438, 439, 440, 441,\n",
       "       442, 443, 444, 445, 446, 447, 448, 449, 450, 451, 452, 453, 454,\n",
       "       455, 456, 457, 458, 459, 460, 461, 462, 463, 464, 465, 466, 467,\n",
       "       468, 469, 470, 471, 472, 473, 474, 475, 476, 477, 478, 479, 480,\n",
       "       481, 482, 483, 484, 485, 486, 487, 488, 489, 490, 491, 492, 493,\n",
       "       494, 495, 496, 497, 498, 499, 500, 501, 502, 503, 504, 505, 506,\n",
       "       507, 508, 509, 510, 511, 512, 513, 514, 515, 516, 517, 518])"
      ]
     },
     "execution_count": 182,
     "metadata": {},
     "output_type": "execute_result"
    }
   ],
   "source": [
    "np.where(svr.dual_coef_)[1]"
   ]
  },
  {
   "cell_type": "code",
   "execution_count": 183,
   "metadata": {},
   "outputs": [
    {
     "name": "stdout",
     "output_type": "stream",
     "text": [
      "Residual variance: 0.06818948458048102\n",
      "Root Mean Square Error: 0.1523876178641958\n",
      "R^2 score: 0.5051879802358223\n"
     ]
    }
   ],
   "source": [
    "pred = svr.predict(test_data)\n",
    "rem = Regression_evaluationMetric(test_values, pred)\n",
    "\n",
    "print(\"Residual variance: {}\".format(np.var(test_values-pred)))\n",
    "\n",
    "print(\"Root Mean Square Error: {}\".format(rem.rootMeanSquareError()))\n",
    "print(\"R^2 score: {}\".format(rem.rSquared()))"
   ]
  },
  {
   "cell_type": "markdown",
   "metadata": {},
   "source": [
    "# Recursive Features Elimination\n",
    "<img src=\"img/Algo1.png\">"
   ]
  },
  {
   "cell_type": "code",
   "execution_count": 66,
   "metadata": {
    "scrolled": true
   },
   "outputs": [],
   "source": [
    "nrf = NumericalRandomForest_regressor(100)\n",
    "nrf.fit(trainVal_data, trainVal_values, depth=200, minElems_perLeaf=5, verbose=False);"
   ]
  },
  {
   "cell_type": "code",
   "execution_count": 67,
   "metadata": {
    "scrolled": true
   },
   "outputs": [
    {
     "name": "stdout",
     "output_type": "stream",
     "text": [
      "Features sorted by their score:\n",
      "\n"
     ]
    },
    {
     "data": {
      "text/plain": [
       "[(43, 0.8085277621003111),\n",
       " (3, 0.7257305716768896),\n",
       " (2, 0.7111636245028883),\n",
       " (34, 0.6786337360776397),\n",
       " (38, 0.588333438771571),\n",
       " (45, 0.5765425303993233),\n",
       " (40, 0.5679268393705657),\n",
       " (44, 0.5651015774589389),\n",
       " (27, 0.5570682535112143),\n",
       " (20, 0.5366061625860112),\n",
       " (5, 0.5361645128118969),\n",
       " (67, 0.5267977113885269),\n",
       " (62, 0.5262379951055777),\n",
       " (74, 0.5234123184625811),\n",
       " (8, 0.5146736610453327),\n",
       " (0, 0.5051665726317632),\n",
       " (10, 0.4940701664628621),\n",
       " (28, 0.48858304089830934),\n",
       " (30, 0.4861495630479451),\n",
       " (81, 0.4810711176036725),\n",
       " (46, 0.4791968905019473),\n",
       " (79, 0.45872596981685415),\n",
       " (24, 0.4419848138800054),\n",
       " (9, 0.44156890386361003),\n",
       " (66, 0.4336358959768635),\n",
       " (99, 0.42325570040155674),\n",
       " (55, 0.4204678602368338),\n",
       " (13, 0.4182713371948919),\n",
       " (33, 0.41222747513267183),\n",
       " (36, 0.41064761313319614),\n",
       " (49, 0.40768054990710073),\n",
       " (50, 0.4026471234174672),\n",
       " (69, 0.4025275285987062),\n",
       " (80, 0.399219387039081),\n",
       " (75, 0.39495651300639517),\n",
       " (26, 0.3904189800947401),\n",
       " (68, 0.3869873769019828),\n",
       " (12, 0.3864037898070639),\n",
       " (39, 0.3708788449916191),\n",
       " (31, 0.3674096599714585),\n",
       " (100, 0.36697866838194904),\n",
       " (14, 0.36378297194027676),\n",
       " (18, 0.36017679082315746),\n",
       " (57, 0.35876863265483944),\n",
       " (54, 0.35154684263969355),\n",
       " (25, 0.3394063190133716),\n",
       " (71, 0.3323801730743834),\n",
       " (72, 0.3313996899871458),\n",
       " (23, 0.3280528176576798),\n",
       " (65, 0.32755792371823633),\n",
       " (4, 0.327493505802607),\n",
       " (77, 0.32611299448244924),\n",
       " (64, 0.3256167418232785),\n",
       " (7, 0.3174123485004537),\n",
       " (91, 0.31448183203772656),\n",
       " (41, 0.31446349577113525),\n",
       " (76, 0.31328345981307404),\n",
       " (95, 0.3114441577594805),\n",
       " (89, 0.3076064699566557),\n",
       " (78, 0.3075088610103199),\n",
       " (32, 0.301607137907192),\n",
       " (90, 0.2994177455000346),\n",
       " (15, 0.2990292638853877),\n",
       " (97, 0.28141243838572044),\n",
       " (94, 0.2773629256246124),\n",
       " (1, 0.27461669685341306),\n",
       " (86, 0.2672197213758075),\n",
       " (37, 0.2662710785015882),\n",
       " (59, 0.2661329210012388),\n",
       " (21, 0.25911415774593655),\n",
       " (48, 0.251953819382562),\n",
       " (82, 0.25127533963660065),\n",
       " (60, 0.24353292525289508),\n",
       " (29, 0.23811542227904564),\n",
       " (84, 0.237961534820548),\n",
       " (88, 0.2378351257662885),\n",
       " (85, 0.2359818419095588),\n",
       " (73, 0.23384567926612654),\n",
       " (83, 0.23280390187603475),\n",
       " (98, 0.22453088640316765),\n",
       " (22, 0.22176751041008638),\n",
       " (16, 0.20579049180314074),\n",
       " (61, 0.20252578741359575),\n",
       " (58, 0.20158424504518946),\n",
       " (17, 0.19553751679042386),\n",
       " (63, 0.19075229143848405),\n",
       " (53, 0.1873544154487144),\n",
       " (47, 0.18101789736395263),\n",
       " (93, 0.17515616354699365),\n",
       " (19, 0.16540312604321947),\n",
       " (52, 0.1474818392383955),\n",
       " (35, 0.14627573535546046),\n",
       " (92, 0.12223601115798816),\n",
       " (87, 0.12201854179879151),\n",
       " (6, 0.11374677483050182),\n",
       " (51, 0.11091095576631171),\n",
       " (96, 0.10859182173978091),\n",
       " (56, 0.0945815939606542),\n",
       " (42, 0.08527437298099846),\n",
       " (70, 0.07879736221273097),\n",
       " (11, 0.06870916955981834),\n",
       " (101, 0.06614264913118112)]"
      ]
     },
     "execution_count": 67,
     "metadata": {},
     "output_type": "execute_result"
    }
   ],
   "source": [
    "print(\"Features sorted by their score:\\n\")\n",
    "nrf.sort_featureImportances()"
   ]
  },
  {
   "cell_type": "code",
   "execution_count": 68,
   "metadata": {
    "scrolled": true
   },
   "outputs": [
    {
     "name": "stdout",
     "output_type": "stream",
     "text": [
      "Features sorted by their score:\n",
      "\n"
     ]
    },
    {
     "data": {
      "text/plain": [
       "[('PctFam2Par', 0.8085),\n",
       " ('racePctWhite', 0.7257),\n",
       " ('racepctblack', 0.7112),\n",
       " ('PctEmplManu', 0.6786),\n",
       " ('MalePctDivorce', 0.5883),\n",
       " ('PctYoungKids2Par', 0.5765),\n",
       " ('FemalePctDiv', 0.5679),\n",
       " ('PctKids2Par', 0.5651),\n",
       " ('NumUnderPov', 0.5571),\n",
       " ('perCapInc', 0.5366),\n",
       " ('racePctHisp', 0.5362),\n",
       " ('PctPersOwnOccup', 0.5268),\n",
       " ('PctLargHouseFam', 0.5262),\n",
       " ('PctVacantBoarded', 0.5234),\n",
       " ('agePct16t24', 0.5147),\n",
       " ('population', 0.5052),\n",
       " ('numbUrban', 0.4941),\n",
       " ('PctPopUnderPov', 0.4886),\n",
       " ('PctNotHSGrad', 0.4861),\n",
       " ('OwnOccHiQuart', 0.4811),\n",
       " ('PctTeen2Par', 0.4792),\n",
       " ('OwnOccLowQuart', 0.4587),\n",
       " ('AsianPerCap', 0.442),\n",
       " ('agePct65up', 0.4416),\n",
       " ('PersPerRentOccHous', 0.4336),\n",
       " ('PopDens', 0.4233),\n",
       " ('PctImmigRec10', 0.4205),\n",
       " ('pctWWage', 0.4183),\n",
       " ('PctEmploy', 0.4122),\n",
       " ('PctOccupManu', 0.4106),\n",
       " ('NumKidsBornNeverMar', 0.4077),\n",
       " ('PctKidsBornNeverMar', 0.4026),\n",
       " ('PctHousLess3BR', 0.4025),\n",
       " ('OwnOccMedVal', 0.3992),\n",
       " ('PctVacMore6Mos', 0.395),\n",
       " ('HispPerCap', 0.3904),\n",
       " ('PctPersDenseHous', 0.387),\n",
       " ('medIncome', 0.3864),\n",
       " ('MalePctNevMarr', 0.3709),\n",
       " ('PctBSorMore', 0.3674),\n",
       " ('PctUsePubTrans', 0.367),\n",
       " ('pctWFarmSelf', 0.3638),\n",
       " ('pctWRetire', 0.3602),\n",
       " ('PctRecImmig5', 0.3588),\n",
       " ('PctImmigRec8', 0.3515),\n",
       " ('OtherPerCap', 0.3394),\n",
       " ('HousVacant', 0.3324),\n",
       " ('PctHousOccup', 0.3314),\n",
       " ('indianPerCap', 0.3281),\n",
       " ('PersPerOwnOccHous', 0.3276),\n",
       " ('racePctAsian', 0.3275),\n",
       " ('PctHousNoPhone', 0.3261),\n",
       " ('PersPerOccupHous', 0.3256),\n",
       " ('agePct12t29', 0.3174),\n",
       " ('TotalPctDiv', 0.3145),\n",
       " ('NumInShelters', 0.3145),\n",
       " ('MedYrHousBuilt', 0.3133),\n",
       " ('PctSameHouse85', 0.3114),\n",
       " ('MedOwnCostPctInc', 0.3076),\n",
       " ('PctWOFullPlumb', 0.3075),\n",
       " ('PctUnemployed', 0.3016),\n",
       " ('MedOwnCostPctIncNoMtg', 0.2994),\n",
       " ('pctWInvInc', 0.299),\n",
       " ('PctSameState85', 0.2814),\n",
       " ('PctBornSameState', 0.2774),\n",
       " ('householdsize', 0.2746),\n",
       " ('RentQrange', 0.2672),\n",
       " ('PctOccupMgmtProf', 0.2663),\n",
       " ('PctRecImmig10', 0.2661),\n",
       " ('whitePerCap', 0.2591),\n",
       " ('PctWorkMom', 0.252),\n",
       " ('OwnOccQrange', 0.2513),\n",
       " ('PctSpeakEnglOnly', 0.2435),\n",
       " ('PctLess9thGrade', 0.2381),\n",
       " ('RentMedian', 0.238),\n",
       " ('MedRentPctHousInc', 0.2378),\n",
       " ('RentHighQ', 0.236),\n",
       " ('PctHousOwnOcc', 0.2338),\n",
       " ('RentLowQ', 0.2328),\n",
       " ('LandArea', 0.2245),\n",
       " ('blackPerCap', 0.2218),\n",
       " ('pctWSocSec', 0.2058),\n",
       " ('PctNotSpeakEnglWell', 0.2025),\n",
       " ('PctRecImmig8', 0.2016),\n",
       " ('pctWPubAsst', 0.1955),\n",
       " ('PctLargHouseOccup', 0.1908),\n",
       " ('PctImmigRec5', 0.1874),\n",
       " ('PctWorkMomYoungKids', 0.181),\n",
       " ('PctForeignBorn', 0.1752),\n",
       " ('medFamInc', 0.1654),\n",
       " ('PctImmigRecent', 0.1475),\n",
       " ('PctEmplProfServ', 0.1463),\n",
       " ('NumStreet', 0.1222),\n",
       " ('MedRent', 0.122),\n",
       " ('agePct12t21', 0.1137),\n",
       " ('NumImmig', 0.1109),\n",
       " ('PctSameCity85', 0.1086),\n",
       " ('PctRecentImmig', 0.0946),\n",
       " ('PersPerFam', 0.0853),\n",
       " ('MedNumBR', 0.0788),\n",
       " ('pctUrban', 0.0687),\n",
       " ('LemasPctOfficDrugUn', 0.0661)]"
      ]
     },
     "execution_count": 68,
     "metadata": {},
     "output_type": "execute_result"
    }
   ],
   "source": [
    "print(\"Features sorted by their score:\\n\")\n",
    "nrf.sort_featureImportances(columns=pred_features.columns)"
   ]
  },
  {
   "cell_type": "code",
   "execution_count": 69,
   "metadata": {},
   "outputs": [],
   "source": [
    "def rfe(estimator, parameters_dict, data, vals, n_features=None, verbose=False):\n",
    "    _,d = data.shape\n",
    "    nf = n_features if n_features else int(d/2)\n",
    "    train_feat = list(range(d))    \n",
    "    rmse = []\n",
    "    r2 = []\n",
    "\n",
    "    tr_data, ts_data, tr_vals, ts_vals = trainTest_split(in_matrix=data, out_vect=vals, train_amount=0.7)\n",
    "    \n",
    "    while d > nf:\n",
    "        if verbose:\n",
    "            update = round((data.shape[1]-d)*100/(data.shape[1]-nf), 2) # just print completion rate\n",
    "            print(\"\\t[\"+'#'*(int(update/5))+' '*(int((100-update)/5))+\"] {}%\".format(update))\n",
    "            \n",
    "        estimator.fit(X=tr_data[:,train_feat], y=tr_vals, **parameters_dict)\n",
    "        pred = estimator.predict(ts_data)\n",
    "        rem = Regression_evaluationMetric(ts_vals, pred)\n",
    "        rmse.append(rem.rootMeanSquareError())\n",
    "        r2.append(rem.rSquared())\n",
    "            \n",
    "        rank = estimator.sort_featureImportances()\n",
    "        toDiscard_idx = rank[-1][0]\n",
    "        train_feat.remove(train_feat[toDiscard_idx])\n",
    "\n",
    "        d -= 1\n",
    "    \n",
    "    return (rmse, r2, train_feat)"
   ]
  },
  {
   "cell_type": "code",
   "execution_count": 70,
   "metadata": {
    "scrolled": true
   },
   "outputs": [
    {
     "name": "stdout",
     "output_type": "stream",
     "text": [
      "\t[                    ] 0.0%\n",
      "\t[                   ] 1.96%\n",
      "\t[                   ] 3.92%\n",
      "\t[#                  ] 5.88%\n",
      "\t[#                  ] 7.84%\n",
      "\t[#                  ] 9.8%\n",
      "\t[##                 ] 11.76%\n",
      "\t[##                 ] 13.73%\n",
      "\t[###                ] 15.69%\n",
      "\t[###                ] 17.65%\n",
      "\t[###                ] 19.61%\n",
      "\t[####               ] 21.57%\n",
      "\t[####               ] 23.53%\n",
      "\t[#####              ] 25.49%\n",
      "\t[#####              ] 27.45%\n",
      "\t[#####              ] 29.41%\n",
      "\t[######             ] 31.37%\n",
      "\t[######             ] 33.33%\n",
      "\t[#######            ] 35.29%\n",
      "\t[#######            ] 37.25%\n",
      "\t[#######            ] 39.22%\n",
      "\t[########           ] 41.18%\n",
      "\t[########           ] 43.14%\n",
      "\t[#########          ] 45.1%\n",
      "\t[#########          ] 47.06%\n",
      "\t[#########          ] 49.02%\n",
      "\t[##########         ] 50.98%\n",
      "\t[##########         ] 52.94%\n",
      "\t[##########         ] 54.9%\n",
      "\t[###########        ] 56.86%\n",
      "\t[###########        ] 58.82%\n",
      "\t[############       ] 60.78%\n",
      "\t[############       ] 62.75%\n",
      "\t[############       ] 64.71%\n",
      "\t[#############      ] 66.67%\n",
      "\t[#############      ] 68.63%\n",
      "\t[##############     ] 70.59%\n",
      "\t[##############     ] 72.55%\n",
      "\t[##############     ] 74.51%\n",
      "\t[###############    ] 76.47%\n",
      "\t[###############    ] 78.43%\n",
      "\t[################   ] 80.39%\n",
      "\t[################   ] 82.35%\n",
      "\t[################   ] 84.31%\n",
      "\t[#################  ] 86.27%\n",
      "\t[#################  ] 88.24%\n",
      "\t[################## ] 90.2%\n",
      "\t[################## ] 92.16%\n",
      "\t[################## ] 94.12%\n",
      "\t[###################] 96.08%\n",
      "\t[###################] 98.04%\n"
     ]
    }
   ],
   "source": [
    "p_dict = {\"depth\":300, \"minElems_perLeaf\":5, \"post_pruning\":True, \"verbose\":False}\n",
    "rootMSE, r2, surv_feature = rfe(NumericalRandomForest_regressor(100),\n",
    "                                p_dict, trainVal_data, trainVal_values, verbose=True)"
   ]
  },
  {
   "cell_type": "code",
   "execution_count": 82,
   "metadata": {},
   "outputs": [
    {
     "data": {
      "image/png": "[encoded data removed]",
      "text/plain": [
       "<Figure size 1440x720 with 2 Axes>"
      ]
     },
     "metadata": {
      "needs_background": "light"
     },
     "output_type": "display_data"
    }
   ],
   "source": [
    "plt.figure(figsize=(20,10))\n",
    "x = range(trainVal_data.shape[1],len(surv_feature),-1)\n",
    "\n",
    "plt.subplot(211)\n",
    "plt.plot(x, rootMSE,\"r\", label=\"RMSE\")\n",
    "plt.xlim(trainVal_data.shape[1], len(surv_feature))\n",
    "plt.xlabel(\"Number of Features\")\n",
    "plt.ylabel(\"Root Mean Square Error\")\n",
    "plt.legend()\n",
    "plt.grid()\n",
    "\n",
    "plt.subplot(212)\n",
    "plt.plot(x, r2, label=\"R2\")\n",
    "plt.xlim(trainVal_data.shape[1], len(surv_feature))\n",
    "plt.xlabel(\"Number of Features\")\n",
    "plt.ylabel(\"R Squared\")\n",
    "plt.legend()\n",
    "plt.grid()"
   ]
  },
  {
   "cell_type": "code",
   "execution_count": 84,
   "metadata": {
    "scrolled": true
   },
   "outputs": [
    {
     "data": {
      "text/plain": [
       "Index(['population', 'householdsize', 'racePctWhite', 'agePct12t21',\n",
       "       'agePct12t29', 'agePct16t24', 'agePct65up', 'pctWWage', 'pctWFarmSelf',\n",
       "       'pctWInvInc', 'pctWSocSec', 'pctWRetire', 'medFamInc', 'OtherPerCap',\n",
       "       'HispPerCap', 'NumUnderPov', 'PctPopUnderPov', 'PctNotHSGrad',\n",
       "       'PctBSorMore', 'PctUnemployed', 'PctEmploy', 'PctOccupManu',\n",
       "       'MalePctNevMarr', 'FemalePctDiv', 'TotalPctDiv', 'PctFam2Par',\n",
       "       'PctKids2Par', 'PctYoungKids2Par', 'NumKidsBornNeverMar',\n",
       "       'PctKidsBornNeverMar', 'NumImmig', 'PctImmigRec5', 'PctImmigRec8',\n",
       "       'PctLargHouseFam', 'PersPerOccupHous', 'PersPerRentOccHous',\n",
       "       'PctPersOwnOccup', 'PctPersDenseHous', 'PctHousLess3BR',\n",
       "       'PctHousOwnOcc', 'PctVacantBoarded', 'PctVacMore6Mos', 'PctHousNoPhone',\n",
       "       'OwnOccLowQuart', 'RentLowQ', 'RentHighQ', 'RentQrange',\n",
       "       'MedRentPctHousInc', 'PctSameHouse85', 'PctSameState85', 'PopDens'],\n",
       "      dtype='object')"
      ]
     },
     "execution_count": 84,
     "metadata": {},
     "output_type": "execute_result"
    }
   ],
   "source": [
    "pred_features.columns[surv_feature]"
   ]
  },
  {
   "cell_type": "markdown",
   "metadata": {},
   "source": [
    "# Apply non linearity to the obtained results"
   ]
  },
  {
   "cell_type": "code",
   "execution_count": 153,
   "metadata": {},
   "outputs": [],
   "source": [
    "class kernel:        \n",
    "    def gaussian(X, y=None, param=None):\n",
    "        if param is None:\n",
    "            param = 1/X.shape[1]\n",
    "            \n",
    "        if y is None:\n",
    "            Q = np.exp(-param*np.square(pairwise_distances(X)))\n",
    "        else:\n",
    "            Q = np.exp(-param*np.square(pairwise_distances(X, y)))\n",
    "        return Q"
   ]
  },
  {
   "cell_type": "code",
   "execution_count": 154,
   "metadata": {},
   "outputs": [],
   "source": [
    "class kernelTikhonov_leastSquares:\n",
    "    def __init__(self, kernel_func, alphas=None):\n",
    "        self.kernel_func = kernel_func\n",
    "        self.alphas = alphas\n",
    "        self.train_set = None\n",
    "        \n",
    "    def fit(self, X, y, _lambda, k_parameter):\n",
    "        self.train_set = X\n",
    "        \n",
    "        Q = self.kernel_func(X, param=k_parameter)\n",
    "        inv = np.linalg.inv(Q + _lambda*np.eye(X.shape[0]))\n",
    "        self.alphas = np.matmul(inv, y)\n",
    "        \n",
    "        return self\n",
    "    \n",
    "    def predict(self, X):\n",
    "        if self.alphas is None:\n",
    "            raise Exception(\"weights not initialised! need to first fit the model\")\n",
    "        \n",
    "        return np.matmul(self.kernel_func(X, self.train_set), self.alphas)"
   ]
  },
  {
   "cell_type": "code",
   "execution_count": 185,
   "metadata": {},
   "outputs": [
    {
     "name": "stdout",
     "output_type": "stream",
     "text": [
      "Best regulariser: (0.5, 0.01)\n",
      "Residual variance: 0.023636065046686965\n",
      "Root Mean Square Error: 0.158690316182208\n",
      "R^2 score: 0.4634110421672054\n"
     ]
    }
   ],
   "source": [
    "k = 5\n",
    "params_dict = {\"_lambda\":[0.5,1,1.3,1.5,1.7,2], \"k_parameter\":[0.0001,0.001, 0.01, 0.1, 1]}\n",
    "\n",
    "ktls = kernelTikhonov_leastSquares(kernel_func=kernel.gaussian)\n",
    "\n",
    "win_parameters = kFold_crossValidation_selectionGrid(k, params_dict, trainVal_data, trainVal_values, ktls)\n",
    "print(\"Best regulariser: {}\".format(win_parameters))\n",
    "ktls.fit(trainVal_data, trainVal_values, _lambda=win_parameters[0], k_parameter=win_parameters[1])\n",
    "\n",
    "pred = ktls.predict(test_data)\n",
    "rem = Regression_evaluationMetric(test_values, pred)\n",
    "\n",
    "print(\"Residual variance: {}\".format(np.var(test_values-pred)))\n",
    "print(\"Root Mean Square Error: {}\".format(rem.rootMeanSquareError()))\n",
    "print(\"R^2 score: {}\".format(rem.rSquared()))"
   ]
  },
  {
   "cell_type": "code",
   "execution_count": 186,
   "metadata": {},
   "outputs": [
    {
     "data": {
      "text/plain": [
       "array([[0.        , 3.0022884 , 5.05992712, ..., 2.71305652, 5.01363312,\n",
       "        4.6612117 ],\n",
       "       [3.0022884 , 0.        , 4.14352286, ..., 2.49270497, 4.6613858 ,\n",
       "        3.45938209],\n",
       "       [5.05992712, 4.14352286, 0.        , ..., 4.16625596, 3.90507531,\n",
       "        3.68669142],\n",
       "       ...,\n",
       "       [2.71305652, 2.49270497, 4.16625596, ..., 0.        , 3.97451522,\n",
       "        3.03762096],\n",
       "       [5.01363312, 4.6613858 , 3.90507531, ..., 3.97451522, 0.        ,\n",
       "        3.89302381],\n",
       "       [4.6612117 , 3.45938209, 3.68669142, ..., 3.03762096, 3.89302381,\n",
       "        0.        ]])"
      ]
     },
     "execution_count": 186,
     "metadata": {},
     "output_type": "execute_result"
    }
   ],
   "source": [
    "pairwise_distances(trainVal_data)"
   ]
  },
  {
   "cell_type": "code",
   "execution_count": 189,
   "metadata": {},
   "outputs": [
    {
     "data": {
      "text/plain": [
       "array([[1453.15134774,  578.17311732, 1184.19627219, ..., 1287.97698283,\n",
       "        1309.31618173, 1409.63358251],\n",
       "       [ 578.17311732,  278.96050922,  465.9458214 , ...,  512.73910513,\n",
       "         518.05468894,  558.00280042],\n",
       "       [1184.19627219,  465.9458214 , 1088.56934908, ..., 1052.02716115,\n",
       "        1076.00150813, 1158.85865989],\n",
       "       ...,\n",
       "       [1287.97698283,  512.73910513, 1052.02716115, ..., 1165.86172505,\n",
       "        1180.19547073, 1252.38413572],\n",
       "       [1309.31618173,  518.05468894, 1076.00150813, ..., 1180.19547073,\n",
       "        1224.60622291, 1273.1759203 ],\n",
       "       [1409.63358251,  558.00280042, 1158.85865989, ..., 1252.38413572,\n",
       "        1273.1759203 , 1387.7480198 ]])"
      ]
     },
     "execution_count": 189,
     "metadata": {},
     "output_type": "execute_result"
    }
   ],
   "source": [
    "np.matmul(trainVal_data.T,trainVal_data)"
   ]
  },
  {
   "cell_type": "code",
   "execution_count": null,
   "metadata": {},
   "outputs": [],
   "source": []
  }
 ],
 "metadata": {
  "kernelspec": {
   "display_name": "Python 3",
   "language": "python",
   "name": "python3"
  },
  "language_info": {
   "codemirror_mode": {
    "name": "ipython",
    "version": 3
   },
   "file_extension": ".py",
   "mimetype": "text/x-python",
   "name": "python",
   "nbconvert_exporter": "python",
   "pygments_lexer": "ipython3",
   "version": "3.6.8"
  }
 },
 "nbformat": 4,
 "nbformat_minor": 2
}
